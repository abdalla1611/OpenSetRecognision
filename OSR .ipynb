{
  "nbformat": 4,
  "nbformat_minor": 0,
  "metadata": {
    "colab": {
      "provenance": [],
      "collapsed_sections": []
    },
    "kernelspec": {
      "name": "python3",
      "display_name": "Python 3"
    },
    "language_info": {
      "name": "python"
    },
    "accelerator": "GPU",
    "gpuClass": "standard",
    "widgets": {
      "application/vnd.jupyter.widget-state+json": {
        "2d6a18beab5c4acb94808fc6e8cf74dd": {
          "model_module": "@jupyter-widgets/controls",
          "model_name": "HBoxModel",
          "model_module_version": "2.0.0",
          "state": {
            "_dom_classes": [],
            "_model_module": "@jupyter-widgets/controls",
            "_model_module_version": "2.0.0",
            "_model_name": "HBoxModel",
            "_view_count": null,
            "_view_module": "@jupyter-widgets/controls",
            "_view_module_version": "2.0.0",
            "_view_name": "HBoxView",
            "box_style": "",
            "children": [
              "IPY_MODEL_fdc9df98a8e94bda8f0ac51273d49313",
              "IPY_MODEL_52817e24d5da4801863786ab0397adda",
              "IPY_MODEL_3cce0a069b4847b3a239f3acb58bc3ac"
            ],
            "layout": "IPY_MODEL_b15a284c1d1c405e852c8e5e638c4a93",
            "tabbable": null,
            "tooltip": null
          }
        },
        "fdc9df98a8e94bda8f0ac51273d49313": {
          "model_module": "@jupyter-widgets/controls",
          "model_name": "HTMLModel",
          "model_module_version": "2.0.0",
          "state": {
            "_dom_classes": [],
            "_model_module": "@jupyter-widgets/controls",
            "_model_module_version": "2.0.0",
            "_model_name": "HTMLModel",
            "_view_count": null,
            "_view_module": "@jupyter-widgets/controls",
            "_view_module_version": "2.0.0",
            "_view_name": "HTMLView",
            "description": "",
            "description_allow_html": false,
            "layout": "IPY_MODEL_00785ee4dae9410688f3ae15aa918201",
            "placeholder": "​",
            "style": "IPY_MODEL_b2ea565e386c474e8a7a1ea8f2503021",
            "tabbable": null,
            "tooltip": null,
            "value": "100%"
          }
        },
        "52817e24d5da4801863786ab0397adda": {
          "model_module": "@jupyter-widgets/controls",
          "model_name": "FloatProgressModel",
          "model_module_version": "2.0.0",
          "state": {
            "_dom_classes": [],
            "_model_module": "@jupyter-widgets/controls",
            "_model_module_version": "2.0.0",
            "_model_name": "FloatProgressModel",
            "_view_count": null,
            "_view_module": "@jupyter-widgets/controls",
            "_view_module_version": "2.0.0",
            "_view_name": "ProgressView",
            "bar_style": "success",
            "description": "",
            "description_allow_html": false,
            "layout": "IPY_MODEL_0e7f5fd912f849ef85f0d4e7fa691754",
            "max": 170498071,
            "min": 0,
            "orientation": "horizontal",
            "style": "IPY_MODEL_c1f66e31f65e41cfa9c250c68eca1684",
            "tabbable": null,
            "tooltip": null,
            "value": 170498071
          }
        },
        "3cce0a069b4847b3a239f3acb58bc3ac": {
          "model_module": "@jupyter-widgets/controls",
          "model_name": "HTMLModel",
          "model_module_version": "2.0.0",
          "state": {
            "_dom_classes": [],
            "_model_module": "@jupyter-widgets/controls",
            "_model_module_version": "2.0.0",
            "_model_name": "HTMLModel",
            "_view_count": null,
            "_view_module": "@jupyter-widgets/controls",
            "_view_module_version": "2.0.0",
            "_view_name": "HTMLView",
            "description": "",
            "description_allow_html": false,
            "layout": "IPY_MODEL_150d8024b3004a06866d522749cf728b",
            "placeholder": "​",
            "style": "IPY_MODEL_f0dbe72c41a14365b33ed6034eaf75fe",
            "tabbable": null,
            "tooltip": null,
            "value": " 170498071/170498071 [00:03&lt;00:00, 50885196.81it/s]"
          }
        },
        "b15a284c1d1c405e852c8e5e638c4a93": {
          "model_module": "@jupyter-widgets/base",
          "model_name": "LayoutModel",
          "model_module_version": "2.0.0",
          "state": {
            "_model_module": "@jupyter-widgets/base",
            "_model_module_version": "2.0.0",
            "_model_name": "LayoutModel",
            "_view_count": null,
            "_view_module": "@jupyter-widgets/base",
            "_view_module_version": "2.0.0",
            "_view_name": "LayoutView",
            "align_content": null,
            "align_items": null,
            "align_self": null,
            "border_bottom": null,
            "border_left": null,
            "border_right": null,
            "border_top": null,
            "bottom": null,
            "display": null,
            "flex": null,
            "flex_flow": null,
            "grid_area": null,
            "grid_auto_columns": null,
            "grid_auto_flow": null,
            "grid_auto_rows": null,
            "grid_column": null,
            "grid_gap": null,
            "grid_row": null,
            "grid_template_areas": null,
            "grid_template_columns": null,
            "grid_template_rows": null,
            "height": null,
            "justify_content": null,
            "justify_items": null,
            "left": null,
            "margin": null,
            "max_height": null,
            "max_width": null,
            "min_height": null,
            "min_width": null,
            "object_fit": null,
            "object_position": null,
            "order": null,
            "overflow": null,
            "padding": null,
            "right": null,
            "top": null,
            "visibility": null,
            "width": null
          }
        },
        "00785ee4dae9410688f3ae15aa918201": {
          "model_module": "@jupyter-widgets/base",
          "model_name": "LayoutModel",
          "model_module_version": "2.0.0",
          "state": {
            "_model_module": "@jupyter-widgets/base",
            "_model_module_version": "2.0.0",
            "_model_name": "LayoutModel",
            "_view_count": null,
            "_view_module": "@jupyter-widgets/base",
            "_view_module_version": "2.0.0",
            "_view_name": "LayoutView",
            "align_content": null,
            "align_items": null,
            "align_self": null,
            "border_bottom": null,
            "border_left": null,
            "border_right": null,
            "border_top": null,
            "bottom": null,
            "display": null,
            "flex": null,
            "flex_flow": null,
            "grid_area": null,
            "grid_auto_columns": null,
            "grid_auto_flow": null,
            "grid_auto_rows": null,
            "grid_column": null,
            "grid_gap": null,
            "grid_row": null,
            "grid_template_areas": null,
            "grid_template_columns": null,
            "grid_template_rows": null,
            "height": null,
            "justify_content": null,
            "justify_items": null,
            "left": null,
            "margin": null,
            "max_height": null,
            "max_width": null,
            "min_height": null,
            "min_width": null,
            "object_fit": null,
            "object_position": null,
            "order": null,
            "overflow": null,
            "padding": null,
            "right": null,
            "top": null,
            "visibility": null,
            "width": null
          }
        },
        "b2ea565e386c474e8a7a1ea8f2503021": {
          "model_module": "@jupyter-widgets/controls",
          "model_name": "HTMLStyleModel",
          "model_module_version": "2.0.0",
          "state": {
            "_model_module": "@jupyter-widgets/controls",
            "_model_module_version": "2.0.0",
            "_model_name": "HTMLStyleModel",
            "_view_count": null,
            "_view_module": "@jupyter-widgets/base",
            "_view_module_version": "2.0.0",
            "_view_name": "StyleView",
            "background": null,
            "description_width": "",
            "font_size": null,
            "text_color": null
          }
        },
        "0e7f5fd912f849ef85f0d4e7fa691754": {
          "model_module": "@jupyter-widgets/base",
          "model_name": "LayoutModel",
          "model_module_version": "2.0.0",
          "state": {
            "_model_module": "@jupyter-widgets/base",
            "_model_module_version": "2.0.0",
            "_model_name": "LayoutModel",
            "_view_count": null,
            "_view_module": "@jupyter-widgets/base",
            "_view_module_version": "2.0.0",
            "_view_name": "LayoutView",
            "align_content": null,
            "align_items": null,
            "align_self": null,
            "border_bottom": null,
            "border_left": null,
            "border_right": null,
            "border_top": null,
            "bottom": null,
            "display": null,
            "flex": null,
            "flex_flow": null,
            "grid_area": null,
            "grid_auto_columns": null,
            "grid_auto_flow": null,
            "grid_auto_rows": null,
            "grid_column": null,
            "grid_gap": null,
            "grid_row": null,
            "grid_template_areas": null,
            "grid_template_columns": null,
            "grid_template_rows": null,
            "height": null,
            "justify_content": null,
            "justify_items": null,
            "left": null,
            "margin": null,
            "max_height": null,
            "max_width": null,
            "min_height": null,
            "min_width": null,
            "object_fit": null,
            "object_position": null,
            "order": null,
            "overflow": null,
            "padding": null,
            "right": null,
            "top": null,
            "visibility": null,
            "width": null
          }
        },
        "c1f66e31f65e41cfa9c250c68eca1684": {
          "model_module": "@jupyter-widgets/controls",
          "model_name": "ProgressStyleModel",
          "model_module_version": "2.0.0",
          "state": {
            "_model_module": "@jupyter-widgets/controls",
            "_model_module_version": "2.0.0",
            "_model_name": "ProgressStyleModel",
            "_view_count": null,
            "_view_module": "@jupyter-widgets/base",
            "_view_module_version": "2.0.0",
            "_view_name": "StyleView",
            "bar_color": null,
            "description_width": ""
          }
        },
        "150d8024b3004a06866d522749cf728b": {
          "model_module": "@jupyter-widgets/base",
          "model_name": "LayoutModel",
          "model_module_version": "2.0.0",
          "state": {
            "_model_module": "@jupyter-widgets/base",
            "_model_module_version": "2.0.0",
            "_model_name": "LayoutModel",
            "_view_count": null,
            "_view_module": "@jupyter-widgets/base",
            "_view_module_version": "2.0.0",
            "_view_name": "LayoutView",
            "align_content": null,
            "align_items": null,
            "align_self": null,
            "border_bottom": null,
            "border_left": null,
            "border_right": null,
            "border_top": null,
            "bottom": null,
            "display": null,
            "flex": null,
            "flex_flow": null,
            "grid_area": null,
            "grid_auto_columns": null,
            "grid_auto_flow": null,
            "grid_auto_rows": null,
            "grid_column": null,
            "grid_gap": null,
            "grid_row": null,
            "grid_template_areas": null,
            "grid_template_columns": null,
            "grid_template_rows": null,
            "height": null,
            "justify_content": null,
            "justify_items": null,
            "left": null,
            "margin": null,
            "max_height": null,
            "max_width": null,
            "min_height": null,
            "min_width": null,
            "object_fit": null,
            "object_position": null,
            "order": null,
            "overflow": null,
            "padding": null,
            "right": null,
            "top": null,
            "visibility": null,
            "width": null
          }
        },
        "f0dbe72c41a14365b33ed6034eaf75fe": {
          "model_module": "@jupyter-widgets/controls",
          "model_name": "HTMLStyleModel",
          "model_module_version": "2.0.0",
          "state": {
            "_model_module": "@jupyter-widgets/controls",
            "_model_module_version": "2.0.0",
            "_model_name": "HTMLStyleModel",
            "_view_count": null,
            "_view_module": "@jupyter-widgets/base",
            "_view_module_version": "2.0.0",
            "_view_name": "StyleView",
            "background": null,
            "description_width": "",
            "font_size": null,
            "text_color": null
          }
        },
        "30a437be0f4d44aa8dc282358e57812c": {
          "model_module": "@jupyter-widgets/controls",
          "model_name": "HBoxModel",
          "model_module_version": "2.0.0",
          "state": {
            "_dom_classes": [],
            "_model_module": "@jupyter-widgets/controls",
            "_model_module_version": "2.0.0",
            "_model_name": "HBoxModel",
            "_view_count": null,
            "_view_module": "@jupyter-widgets/controls",
            "_view_module_version": "2.0.0",
            "_view_name": "HBoxView",
            "box_style": "",
            "children": [
              "IPY_MODEL_1222a077beed49c8bd517d8b5d303179",
              "IPY_MODEL_1eca10cd97c6446696f55df3bfcfbc96",
              "IPY_MODEL_ff75aad8667148c0abf6f82d344ee9ed"
            ],
            "layout": "IPY_MODEL_a84016ed502b410f83956446b4633265",
            "tabbable": null,
            "tooltip": null
          }
        },
        "1222a077beed49c8bd517d8b5d303179": {
          "model_module": "@jupyter-widgets/controls",
          "model_name": "HTMLModel",
          "model_module_version": "2.0.0",
          "state": {
            "_dom_classes": [],
            "_model_module": "@jupyter-widgets/controls",
            "_model_module_version": "2.0.0",
            "_model_name": "HTMLModel",
            "_view_count": null,
            "_view_module": "@jupyter-widgets/controls",
            "_view_module_version": "2.0.0",
            "_view_name": "HTMLView",
            "description": "",
            "description_allow_html": false,
            "layout": "IPY_MODEL_12725fe9a90d43d0809da7112e55099b",
            "placeholder": "​",
            "style": "IPY_MODEL_0cd033b6103743c9bc753d571fb1f623",
            "tabbable": null,
            "tooltip": null,
            "value": "100%"
          }
        },
        "1eca10cd97c6446696f55df3bfcfbc96": {
          "model_module": "@jupyter-widgets/controls",
          "model_name": "FloatProgressModel",
          "model_module_version": "2.0.0",
          "state": {
            "_dom_classes": [],
            "_model_module": "@jupyter-widgets/controls",
            "_model_module_version": "2.0.0",
            "_model_name": "FloatProgressModel",
            "_view_count": null,
            "_view_module": "@jupyter-widgets/controls",
            "_view_module_version": "2.0.0",
            "_view_name": "ProgressView",
            "bar_style": "success",
            "description": "",
            "description_allow_html": false,
            "layout": "IPY_MODEL_ce89427a64404fbba4b41ebd4bfc3929",
            "max": 9912422,
            "min": 0,
            "orientation": "horizontal",
            "style": "IPY_MODEL_2c40633618be4aa6afa1df0733a867eb",
            "tabbable": null,
            "tooltip": null,
            "value": 9912422
          }
        },
        "ff75aad8667148c0abf6f82d344ee9ed": {
          "model_module": "@jupyter-widgets/controls",
          "model_name": "HTMLModel",
          "model_module_version": "2.0.0",
          "state": {
            "_dom_classes": [],
            "_model_module": "@jupyter-widgets/controls",
            "_model_module_version": "2.0.0",
            "_model_name": "HTMLModel",
            "_view_count": null,
            "_view_module": "@jupyter-widgets/controls",
            "_view_module_version": "2.0.0",
            "_view_name": "HTMLView",
            "description": "",
            "description_allow_html": false,
            "layout": "IPY_MODEL_920ee42c011d44c7ac1da5004e7ebf5b",
            "placeholder": "​",
            "style": "IPY_MODEL_a196552509944a138c2313218f62221b",
            "tabbable": null,
            "tooltip": null,
            "value": " 9912422/9912422 [00:01&lt;00:00, 9396331.79it/s]"
          }
        },
        "a84016ed502b410f83956446b4633265": {
          "model_module": "@jupyter-widgets/base",
          "model_name": "LayoutModel",
          "model_module_version": "2.0.0",
          "state": {
            "_model_module": "@jupyter-widgets/base",
            "_model_module_version": "2.0.0",
            "_model_name": "LayoutModel",
            "_view_count": null,
            "_view_module": "@jupyter-widgets/base",
            "_view_module_version": "2.0.0",
            "_view_name": "LayoutView",
            "align_content": null,
            "align_items": null,
            "align_self": null,
            "border_bottom": null,
            "border_left": null,
            "border_right": null,
            "border_top": null,
            "bottom": null,
            "display": null,
            "flex": null,
            "flex_flow": null,
            "grid_area": null,
            "grid_auto_columns": null,
            "grid_auto_flow": null,
            "grid_auto_rows": null,
            "grid_column": null,
            "grid_gap": null,
            "grid_row": null,
            "grid_template_areas": null,
            "grid_template_columns": null,
            "grid_template_rows": null,
            "height": null,
            "justify_content": null,
            "justify_items": null,
            "left": null,
            "margin": null,
            "max_height": null,
            "max_width": null,
            "min_height": null,
            "min_width": null,
            "object_fit": null,
            "object_position": null,
            "order": null,
            "overflow": null,
            "padding": null,
            "right": null,
            "top": null,
            "visibility": null,
            "width": null
          }
        },
        "12725fe9a90d43d0809da7112e55099b": {
          "model_module": "@jupyter-widgets/base",
          "model_name": "LayoutModel",
          "model_module_version": "2.0.0",
          "state": {
            "_model_module": "@jupyter-widgets/base",
            "_model_module_version": "2.0.0",
            "_model_name": "LayoutModel",
            "_view_count": null,
            "_view_module": "@jupyter-widgets/base",
            "_view_module_version": "2.0.0",
            "_view_name": "LayoutView",
            "align_content": null,
            "align_items": null,
            "align_self": null,
            "border_bottom": null,
            "border_left": null,
            "border_right": null,
            "border_top": null,
            "bottom": null,
            "display": null,
            "flex": null,
            "flex_flow": null,
            "grid_area": null,
            "grid_auto_columns": null,
            "grid_auto_flow": null,
            "grid_auto_rows": null,
            "grid_column": null,
            "grid_gap": null,
            "grid_row": null,
            "grid_template_areas": null,
            "grid_template_columns": null,
            "grid_template_rows": null,
            "height": null,
            "justify_content": null,
            "justify_items": null,
            "left": null,
            "margin": null,
            "max_height": null,
            "max_width": null,
            "min_height": null,
            "min_width": null,
            "object_fit": null,
            "object_position": null,
            "order": null,
            "overflow": null,
            "padding": null,
            "right": null,
            "top": null,
            "visibility": null,
            "width": null
          }
        },
        "0cd033b6103743c9bc753d571fb1f623": {
          "model_module": "@jupyter-widgets/controls",
          "model_name": "HTMLStyleModel",
          "model_module_version": "2.0.0",
          "state": {
            "_model_module": "@jupyter-widgets/controls",
            "_model_module_version": "2.0.0",
            "_model_name": "HTMLStyleModel",
            "_view_count": null,
            "_view_module": "@jupyter-widgets/base",
            "_view_module_version": "2.0.0",
            "_view_name": "StyleView",
            "background": null,
            "description_width": "",
            "font_size": null,
            "text_color": null
          }
        },
        "ce89427a64404fbba4b41ebd4bfc3929": {
          "model_module": "@jupyter-widgets/base",
          "model_name": "LayoutModel",
          "model_module_version": "2.0.0",
          "state": {
            "_model_module": "@jupyter-widgets/base",
            "_model_module_version": "2.0.0",
            "_model_name": "LayoutModel",
            "_view_count": null,
            "_view_module": "@jupyter-widgets/base",
            "_view_module_version": "2.0.0",
            "_view_name": "LayoutView",
            "align_content": null,
            "align_items": null,
            "align_self": null,
            "border_bottom": null,
            "border_left": null,
            "border_right": null,
            "border_top": null,
            "bottom": null,
            "display": null,
            "flex": null,
            "flex_flow": null,
            "grid_area": null,
            "grid_auto_columns": null,
            "grid_auto_flow": null,
            "grid_auto_rows": null,
            "grid_column": null,
            "grid_gap": null,
            "grid_row": null,
            "grid_template_areas": null,
            "grid_template_columns": null,
            "grid_template_rows": null,
            "height": null,
            "justify_content": null,
            "justify_items": null,
            "left": null,
            "margin": null,
            "max_height": null,
            "max_width": null,
            "min_height": null,
            "min_width": null,
            "object_fit": null,
            "object_position": null,
            "order": null,
            "overflow": null,
            "padding": null,
            "right": null,
            "top": null,
            "visibility": null,
            "width": null
          }
        },
        "2c40633618be4aa6afa1df0733a867eb": {
          "model_module": "@jupyter-widgets/controls",
          "model_name": "ProgressStyleModel",
          "model_module_version": "2.0.0",
          "state": {
            "_model_module": "@jupyter-widgets/controls",
            "_model_module_version": "2.0.0",
            "_model_name": "ProgressStyleModel",
            "_view_count": null,
            "_view_module": "@jupyter-widgets/base",
            "_view_module_version": "2.0.0",
            "_view_name": "StyleView",
            "bar_color": null,
            "description_width": ""
          }
        },
        "920ee42c011d44c7ac1da5004e7ebf5b": {
          "model_module": "@jupyter-widgets/base",
          "model_name": "LayoutModel",
          "model_module_version": "2.0.0",
          "state": {
            "_model_module": "@jupyter-widgets/base",
            "_model_module_version": "2.0.0",
            "_model_name": "LayoutModel",
            "_view_count": null,
            "_view_module": "@jupyter-widgets/base",
            "_view_module_version": "2.0.0",
            "_view_name": "LayoutView",
            "align_content": null,
            "align_items": null,
            "align_self": null,
            "border_bottom": null,
            "border_left": null,
            "border_right": null,
            "border_top": null,
            "bottom": null,
            "display": null,
            "flex": null,
            "flex_flow": null,
            "grid_area": null,
            "grid_auto_columns": null,
            "grid_auto_flow": null,
            "grid_auto_rows": null,
            "grid_column": null,
            "grid_gap": null,
            "grid_row": null,
            "grid_template_areas": null,
            "grid_template_columns": null,
            "grid_template_rows": null,
            "height": null,
            "justify_content": null,
            "justify_items": null,
            "left": null,
            "margin": null,
            "max_height": null,
            "max_width": null,
            "min_height": null,
            "min_width": null,
            "object_fit": null,
            "object_position": null,
            "order": null,
            "overflow": null,
            "padding": null,
            "right": null,
            "top": null,
            "visibility": null,
            "width": null
          }
        },
        "a196552509944a138c2313218f62221b": {
          "model_module": "@jupyter-widgets/controls",
          "model_name": "HTMLStyleModel",
          "model_module_version": "2.0.0",
          "state": {
            "_model_module": "@jupyter-widgets/controls",
            "_model_module_version": "2.0.0",
            "_model_name": "HTMLStyleModel",
            "_view_count": null,
            "_view_module": "@jupyter-widgets/base",
            "_view_module_version": "2.0.0",
            "_view_name": "StyleView",
            "background": null,
            "description_width": "",
            "font_size": null,
            "text_color": null
          }
        },
        "2cdfc65a8e7344e2a2647bcc6da56aef": {
          "model_module": "@jupyter-widgets/controls",
          "model_name": "HBoxModel",
          "model_module_version": "2.0.0",
          "state": {
            "_dom_classes": [],
            "_model_module": "@jupyter-widgets/controls",
            "_model_module_version": "2.0.0",
            "_model_name": "HBoxModel",
            "_view_count": null,
            "_view_module": "@jupyter-widgets/controls",
            "_view_module_version": "2.0.0",
            "_view_name": "HBoxView",
            "box_style": "",
            "children": [
              "IPY_MODEL_9703e116abba4498b54db23bdaf79e7c",
              "IPY_MODEL_819acf4f57184772a75e47301e8443ca",
              "IPY_MODEL_e51b38c4597e46559d3ca4616ac47383"
            ],
            "layout": "IPY_MODEL_8a1c09cf14f94015a63ba8dc36cd61a4",
            "tabbable": null,
            "tooltip": null
          }
        },
        "9703e116abba4498b54db23bdaf79e7c": {
          "model_module": "@jupyter-widgets/controls",
          "model_name": "HTMLModel",
          "model_module_version": "2.0.0",
          "state": {
            "_dom_classes": [],
            "_model_module": "@jupyter-widgets/controls",
            "_model_module_version": "2.0.0",
            "_model_name": "HTMLModel",
            "_view_count": null,
            "_view_module": "@jupyter-widgets/controls",
            "_view_module_version": "2.0.0",
            "_view_name": "HTMLView",
            "description": "",
            "description_allow_html": false,
            "layout": "IPY_MODEL_330f250a20484eadb696d7856e7e2caf",
            "placeholder": "​",
            "style": "IPY_MODEL_0f5ee86f34374a7a8823a8f1be62ef8a",
            "tabbable": null,
            "tooltip": null,
            "value": "100%"
          }
        },
        "819acf4f57184772a75e47301e8443ca": {
          "model_module": "@jupyter-widgets/controls",
          "model_name": "FloatProgressModel",
          "model_module_version": "2.0.0",
          "state": {
            "_dom_classes": [],
            "_model_module": "@jupyter-widgets/controls",
            "_model_module_version": "2.0.0",
            "_model_name": "FloatProgressModel",
            "_view_count": null,
            "_view_module": "@jupyter-widgets/controls",
            "_view_module_version": "2.0.0",
            "_view_name": "ProgressView",
            "bar_style": "success",
            "description": "",
            "description_allow_html": false,
            "layout": "IPY_MODEL_085019dbb45448fb8409d8339bc853d1",
            "max": 28881,
            "min": 0,
            "orientation": "horizontal",
            "style": "IPY_MODEL_b1deed47ec4e4871bc413e32320b7185",
            "tabbable": null,
            "tooltip": null,
            "value": 28881
          }
        },
        "e51b38c4597e46559d3ca4616ac47383": {
          "model_module": "@jupyter-widgets/controls",
          "model_name": "HTMLModel",
          "model_module_version": "2.0.0",
          "state": {
            "_dom_classes": [],
            "_model_module": "@jupyter-widgets/controls",
            "_model_module_version": "2.0.0",
            "_model_name": "HTMLModel",
            "_view_count": null,
            "_view_module": "@jupyter-widgets/controls",
            "_view_module_version": "2.0.0",
            "_view_name": "HTMLView",
            "description": "",
            "description_allow_html": false,
            "layout": "IPY_MODEL_a2389fc69a35498e9149905006870d78",
            "placeholder": "​",
            "style": "IPY_MODEL_2229942745764ae78dfed9b83b22446a",
            "tabbable": null,
            "tooltip": null,
            "value": " 28881/28881 [00:00&lt;00:00, 901092.70it/s]"
          }
        },
        "8a1c09cf14f94015a63ba8dc36cd61a4": {
          "model_module": "@jupyter-widgets/base",
          "model_name": "LayoutModel",
          "model_module_version": "2.0.0",
          "state": {
            "_model_module": "@jupyter-widgets/base",
            "_model_module_version": "2.0.0",
            "_model_name": "LayoutModel",
            "_view_count": null,
            "_view_module": "@jupyter-widgets/base",
            "_view_module_version": "2.0.0",
            "_view_name": "LayoutView",
            "align_content": null,
            "align_items": null,
            "align_self": null,
            "border_bottom": null,
            "border_left": null,
            "border_right": null,
            "border_top": null,
            "bottom": null,
            "display": null,
            "flex": null,
            "flex_flow": null,
            "grid_area": null,
            "grid_auto_columns": null,
            "grid_auto_flow": null,
            "grid_auto_rows": null,
            "grid_column": null,
            "grid_gap": null,
            "grid_row": null,
            "grid_template_areas": null,
            "grid_template_columns": null,
            "grid_template_rows": null,
            "height": null,
            "justify_content": null,
            "justify_items": null,
            "left": null,
            "margin": null,
            "max_height": null,
            "max_width": null,
            "min_height": null,
            "min_width": null,
            "object_fit": null,
            "object_position": null,
            "order": null,
            "overflow": null,
            "padding": null,
            "right": null,
            "top": null,
            "visibility": null,
            "width": null
          }
        },
        "330f250a20484eadb696d7856e7e2caf": {
          "model_module": "@jupyter-widgets/base",
          "model_name": "LayoutModel",
          "model_module_version": "2.0.0",
          "state": {
            "_model_module": "@jupyter-widgets/base",
            "_model_module_version": "2.0.0",
            "_model_name": "LayoutModel",
            "_view_count": null,
            "_view_module": "@jupyter-widgets/base",
            "_view_module_version": "2.0.0",
            "_view_name": "LayoutView",
            "align_content": null,
            "align_items": null,
            "align_self": null,
            "border_bottom": null,
            "border_left": null,
            "border_right": null,
            "border_top": null,
            "bottom": null,
            "display": null,
            "flex": null,
            "flex_flow": null,
            "grid_area": null,
            "grid_auto_columns": null,
            "grid_auto_flow": null,
            "grid_auto_rows": null,
            "grid_column": null,
            "grid_gap": null,
            "grid_row": null,
            "grid_template_areas": null,
            "grid_template_columns": null,
            "grid_template_rows": null,
            "height": null,
            "justify_content": null,
            "justify_items": null,
            "left": null,
            "margin": null,
            "max_height": null,
            "max_width": null,
            "min_height": null,
            "min_width": null,
            "object_fit": null,
            "object_position": null,
            "order": null,
            "overflow": null,
            "padding": null,
            "right": null,
            "top": null,
            "visibility": null,
            "width": null
          }
        },
        "0f5ee86f34374a7a8823a8f1be62ef8a": {
          "model_module": "@jupyter-widgets/controls",
          "model_name": "HTMLStyleModel",
          "model_module_version": "2.0.0",
          "state": {
            "_model_module": "@jupyter-widgets/controls",
            "_model_module_version": "2.0.0",
            "_model_name": "HTMLStyleModel",
            "_view_count": null,
            "_view_module": "@jupyter-widgets/base",
            "_view_module_version": "2.0.0",
            "_view_name": "StyleView",
            "background": null,
            "description_width": "",
            "font_size": null,
            "text_color": null
          }
        },
        "085019dbb45448fb8409d8339bc853d1": {
          "model_module": "@jupyter-widgets/base",
          "model_name": "LayoutModel",
          "model_module_version": "2.0.0",
          "state": {
            "_model_module": "@jupyter-widgets/base",
            "_model_module_version": "2.0.0",
            "_model_name": "LayoutModel",
            "_view_count": null,
            "_view_module": "@jupyter-widgets/base",
            "_view_module_version": "2.0.0",
            "_view_name": "LayoutView",
            "align_content": null,
            "align_items": null,
            "align_self": null,
            "border_bottom": null,
            "border_left": null,
            "border_right": null,
            "border_top": null,
            "bottom": null,
            "display": null,
            "flex": null,
            "flex_flow": null,
            "grid_area": null,
            "grid_auto_columns": null,
            "grid_auto_flow": null,
            "grid_auto_rows": null,
            "grid_column": null,
            "grid_gap": null,
            "grid_row": null,
            "grid_template_areas": null,
            "grid_template_columns": null,
            "grid_template_rows": null,
            "height": null,
            "justify_content": null,
            "justify_items": null,
            "left": null,
            "margin": null,
            "max_height": null,
            "max_width": null,
            "min_height": null,
            "min_width": null,
            "object_fit": null,
            "object_position": null,
            "order": null,
            "overflow": null,
            "padding": null,
            "right": null,
            "top": null,
            "visibility": null,
            "width": null
          }
        },
        "b1deed47ec4e4871bc413e32320b7185": {
          "model_module": "@jupyter-widgets/controls",
          "model_name": "ProgressStyleModel",
          "model_module_version": "2.0.0",
          "state": {
            "_model_module": "@jupyter-widgets/controls",
            "_model_module_version": "2.0.0",
            "_model_name": "ProgressStyleModel",
            "_view_count": null,
            "_view_module": "@jupyter-widgets/base",
            "_view_module_version": "2.0.0",
            "_view_name": "StyleView",
            "bar_color": null,
            "description_width": ""
          }
        },
        "a2389fc69a35498e9149905006870d78": {
          "model_module": "@jupyter-widgets/base",
          "model_name": "LayoutModel",
          "model_module_version": "2.0.0",
          "state": {
            "_model_module": "@jupyter-widgets/base",
            "_model_module_version": "2.0.0",
            "_model_name": "LayoutModel",
            "_view_count": null,
            "_view_module": "@jupyter-widgets/base",
            "_view_module_version": "2.0.0",
            "_view_name": "LayoutView",
            "align_content": null,
            "align_items": null,
            "align_self": null,
            "border_bottom": null,
            "border_left": null,
            "border_right": null,
            "border_top": null,
            "bottom": null,
            "display": null,
            "flex": null,
            "flex_flow": null,
            "grid_area": null,
            "grid_auto_columns": null,
            "grid_auto_flow": null,
            "grid_auto_rows": null,
            "grid_column": null,
            "grid_gap": null,
            "grid_row": null,
            "grid_template_areas": null,
            "grid_template_columns": null,
            "grid_template_rows": null,
            "height": null,
            "justify_content": null,
            "justify_items": null,
            "left": null,
            "margin": null,
            "max_height": null,
            "max_width": null,
            "min_height": null,
            "min_width": null,
            "object_fit": null,
            "object_position": null,
            "order": null,
            "overflow": null,
            "padding": null,
            "right": null,
            "top": null,
            "visibility": null,
            "width": null
          }
        },
        "2229942745764ae78dfed9b83b22446a": {
          "model_module": "@jupyter-widgets/controls",
          "model_name": "HTMLStyleModel",
          "model_module_version": "2.0.0",
          "state": {
            "_model_module": "@jupyter-widgets/controls",
            "_model_module_version": "2.0.0",
            "_model_name": "HTMLStyleModel",
            "_view_count": null,
            "_view_module": "@jupyter-widgets/base",
            "_view_module_version": "2.0.0",
            "_view_name": "StyleView",
            "background": null,
            "description_width": "",
            "font_size": null,
            "text_color": null
          }
        },
        "6fe1e54f9b294b24a4e51018bd44eb00": {
          "model_module": "@jupyter-widgets/controls",
          "model_name": "HBoxModel",
          "model_module_version": "2.0.0",
          "state": {
            "_dom_classes": [],
            "_model_module": "@jupyter-widgets/controls",
            "_model_module_version": "2.0.0",
            "_model_name": "HBoxModel",
            "_view_count": null,
            "_view_module": "@jupyter-widgets/controls",
            "_view_module_version": "2.0.0",
            "_view_name": "HBoxView",
            "box_style": "",
            "children": [
              "IPY_MODEL_f3e6e5328935469c9ee4971010c3fc9e",
              "IPY_MODEL_322b829085fe4ca4a32722f8b1ae1dbe",
              "IPY_MODEL_4774554b287d47efb66a8c35e6c2f2c9"
            ],
            "layout": "IPY_MODEL_a8bcee678a2b4950a68025a86bc8dd82",
            "tabbable": null,
            "tooltip": null
          }
        },
        "f3e6e5328935469c9ee4971010c3fc9e": {
          "model_module": "@jupyter-widgets/controls",
          "model_name": "HTMLModel",
          "model_module_version": "2.0.0",
          "state": {
            "_dom_classes": [],
            "_model_module": "@jupyter-widgets/controls",
            "_model_module_version": "2.0.0",
            "_model_name": "HTMLModel",
            "_view_count": null,
            "_view_module": "@jupyter-widgets/controls",
            "_view_module_version": "2.0.0",
            "_view_name": "HTMLView",
            "description": "",
            "description_allow_html": false,
            "layout": "IPY_MODEL_dd14a7d60c62401380b9deb2559e2558",
            "placeholder": "​",
            "style": "IPY_MODEL_492ab844735245a7a6ec713e69918aa5",
            "tabbable": null,
            "tooltip": null,
            "value": "100%"
          }
        },
        "322b829085fe4ca4a32722f8b1ae1dbe": {
          "model_module": "@jupyter-widgets/controls",
          "model_name": "FloatProgressModel",
          "model_module_version": "2.0.0",
          "state": {
            "_dom_classes": [],
            "_model_module": "@jupyter-widgets/controls",
            "_model_module_version": "2.0.0",
            "_model_name": "FloatProgressModel",
            "_view_count": null,
            "_view_module": "@jupyter-widgets/controls",
            "_view_module_version": "2.0.0",
            "_view_name": "ProgressView",
            "bar_style": "success",
            "description": "",
            "description_allow_html": false,
            "layout": "IPY_MODEL_211e2b93502e483096505900e6ae071c",
            "max": 1648877,
            "min": 0,
            "orientation": "horizontal",
            "style": "IPY_MODEL_ff0b7958cbae4f31aa5bf0226f592374",
            "tabbable": null,
            "tooltip": null,
            "value": 1648877
          }
        },
        "4774554b287d47efb66a8c35e6c2f2c9": {
          "model_module": "@jupyter-widgets/controls",
          "model_name": "HTMLModel",
          "model_module_version": "2.0.0",
          "state": {
            "_dom_classes": [],
            "_model_module": "@jupyter-widgets/controls",
            "_model_module_version": "2.0.0",
            "_model_name": "HTMLModel",
            "_view_count": null,
            "_view_module": "@jupyter-widgets/controls",
            "_view_module_version": "2.0.0",
            "_view_name": "HTMLView",
            "description": "",
            "description_allow_html": false,
            "layout": "IPY_MODEL_4aab34ca2c0c4340bb6947334df161bb",
            "placeholder": "​",
            "style": "IPY_MODEL_2b656d1eb9904c0c9a5bdc62bb665177",
            "tabbable": null,
            "tooltip": null,
            "value": " 1648877/1648877 [00:00&lt;00:00, 8776350.78it/s]"
          }
        },
        "a8bcee678a2b4950a68025a86bc8dd82": {
          "model_module": "@jupyter-widgets/base",
          "model_name": "LayoutModel",
          "model_module_version": "2.0.0",
          "state": {
            "_model_module": "@jupyter-widgets/base",
            "_model_module_version": "2.0.0",
            "_model_name": "LayoutModel",
            "_view_count": null,
            "_view_module": "@jupyter-widgets/base",
            "_view_module_version": "2.0.0",
            "_view_name": "LayoutView",
            "align_content": null,
            "align_items": null,
            "align_self": null,
            "border_bottom": null,
            "border_left": null,
            "border_right": null,
            "border_top": null,
            "bottom": null,
            "display": null,
            "flex": null,
            "flex_flow": null,
            "grid_area": null,
            "grid_auto_columns": null,
            "grid_auto_flow": null,
            "grid_auto_rows": null,
            "grid_column": null,
            "grid_gap": null,
            "grid_row": null,
            "grid_template_areas": null,
            "grid_template_columns": null,
            "grid_template_rows": null,
            "height": null,
            "justify_content": null,
            "justify_items": null,
            "left": null,
            "margin": null,
            "max_height": null,
            "max_width": null,
            "min_height": null,
            "min_width": null,
            "object_fit": null,
            "object_position": null,
            "order": null,
            "overflow": null,
            "padding": null,
            "right": null,
            "top": null,
            "visibility": null,
            "width": null
          }
        },
        "dd14a7d60c62401380b9deb2559e2558": {
          "model_module": "@jupyter-widgets/base",
          "model_name": "LayoutModel",
          "model_module_version": "2.0.0",
          "state": {
            "_model_module": "@jupyter-widgets/base",
            "_model_module_version": "2.0.0",
            "_model_name": "LayoutModel",
            "_view_count": null,
            "_view_module": "@jupyter-widgets/base",
            "_view_module_version": "2.0.0",
            "_view_name": "LayoutView",
            "align_content": null,
            "align_items": null,
            "align_self": null,
            "border_bottom": null,
            "border_left": null,
            "border_right": null,
            "border_top": null,
            "bottom": null,
            "display": null,
            "flex": null,
            "flex_flow": null,
            "grid_area": null,
            "grid_auto_columns": null,
            "grid_auto_flow": null,
            "grid_auto_rows": null,
            "grid_column": null,
            "grid_gap": null,
            "grid_row": null,
            "grid_template_areas": null,
            "grid_template_columns": null,
            "grid_template_rows": null,
            "height": null,
            "justify_content": null,
            "justify_items": null,
            "left": null,
            "margin": null,
            "max_height": null,
            "max_width": null,
            "min_height": null,
            "min_width": null,
            "object_fit": null,
            "object_position": null,
            "order": null,
            "overflow": null,
            "padding": null,
            "right": null,
            "top": null,
            "visibility": null,
            "width": null
          }
        },
        "492ab844735245a7a6ec713e69918aa5": {
          "model_module": "@jupyter-widgets/controls",
          "model_name": "HTMLStyleModel",
          "model_module_version": "2.0.0",
          "state": {
            "_model_module": "@jupyter-widgets/controls",
            "_model_module_version": "2.0.0",
            "_model_name": "HTMLStyleModel",
            "_view_count": null,
            "_view_module": "@jupyter-widgets/base",
            "_view_module_version": "2.0.0",
            "_view_name": "StyleView",
            "background": null,
            "description_width": "",
            "font_size": null,
            "text_color": null
          }
        },
        "211e2b93502e483096505900e6ae071c": {
          "model_module": "@jupyter-widgets/base",
          "model_name": "LayoutModel",
          "model_module_version": "2.0.0",
          "state": {
            "_model_module": "@jupyter-widgets/base",
            "_model_module_version": "2.0.0",
            "_model_name": "LayoutModel",
            "_view_count": null,
            "_view_module": "@jupyter-widgets/base",
            "_view_module_version": "2.0.0",
            "_view_name": "LayoutView",
            "align_content": null,
            "align_items": null,
            "align_self": null,
            "border_bottom": null,
            "border_left": null,
            "border_right": null,
            "border_top": null,
            "bottom": null,
            "display": null,
            "flex": null,
            "flex_flow": null,
            "grid_area": null,
            "grid_auto_columns": null,
            "grid_auto_flow": null,
            "grid_auto_rows": null,
            "grid_column": null,
            "grid_gap": null,
            "grid_row": null,
            "grid_template_areas": null,
            "grid_template_columns": null,
            "grid_template_rows": null,
            "height": null,
            "justify_content": null,
            "justify_items": null,
            "left": null,
            "margin": null,
            "max_height": null,
            "max_width": null,
            "min_height": null,
            "min_width": null,
            "object_fit": null,
            "object_position": null,
            "order": null,
            "overflow": null,
            "padding": null,
            "right": null,
            "top": null,
            "visibility": null,
            "width": null
          }
        },
        "ff0b7958cbae4f31aa5bf0226f592374": {
          "model_module": "@jupyter-widgets/controls",
          "model_name": "ProgressStyleModel",
          "model_module_version": "2.0.0",
          "state": {
            "_model_module": "@jupyter-widgets/controls",
            "_model_module_version": "2.0.0",
            "_model_name": "ProgressStyleModel",
            "_view_count": null,
            "_view_module": "@jupyter-widgets/base",
            "_view_module_version": "2.0.0",
            "_view_name": "StyleView",
            "bar_color": null,
            "description_width": ""
          }
        },
        "4aab34ca2c0c4340bb6947334df161bb": {
          "model_module": "@jupyter-widgets/base",
          "model_name": "LayoutModel",
          "model_module_version": "2.0.0",
          "state": {
            "_model_module": "@jupyter-widgets/base",
            "_model_module_version": "2.0.0",
            "_model_name": "LayoutModel",
            "_view_count": null,
            "_view_module": "@jupyter-widgets/base",
            "_view_module_version": "2.0.0",
            "_view_name": "LayoutView",
            "align_content": null,
            "align_items": null,
            "align_self": null,
            "border_bottom": null,
            "border_left": null,
            "border_right": null,
            "border_top": null,
            "bottom": null,
            "display": null,
            "flex": null,
            "flex_flow": null,
            "grid_area": null,
            "grid_auto_columns": null,
            "grid_auto_flow": null,
            "grid_auto_rows": null,
            "grid_column": null,
            "grid_gap": null,
            "grid_row": null,
            "grid_template_areas": null,
            "grid_template_columns": null,
            "grid_template_rows": null,
            "height": null,
            "justify_content": null,
            "justify_items": null,
            "left": null,
            "margin": null,
            "max_height": null,
            "max_width": null,
            "min_height": null,
            "min_width": null,
            "object_fit": null,
            "object_position": null,
            "order": null,
            "overflow": null,
            "padding": null,
            "right": null,
            "top": null,
            "visibility": null,
            "width": null
          }
        },
        "2b656d1eb9904c0c9a5bdc62bb665177": {
          "model_module": "@jupyter-widgets/controls",
          "model_name": "HTMLStyleModel",
          "model_module_version": "2.0.0",
          "state": {
            "_model_module": "@jupyter-widgets/controls",
            "_model_module_version": "2.0.0",
            "_model_name": "HTMLStyleModel",
            "_view_count": null,
            "_view_module": "@jupyter-widgets/base",
            "_view_module_version": "2.0.0",
            "_view_name": "StyleView",
            "background": null,
            "description_width": "",
            "font_size": null,
            "text_color": null
          }
        },
        "b37997fe72174af3a25a167ec16d5e39": {
          "model_module": "@jupyter-widgets/controls",
          "model_name": "HBoxModel",
          "model_module_version": "2.0.0",
          "state": {
            "_dom_classes": [],
            "_model_module": "@jupyter-widgets/controls",
            "_model_module_version": "2.0.0",
            "_model_name": "HBoxModel",
            "_view_count": null,
            "_view_module": "@jupyter-widgets/controls",
            "_view_module_version": "2.0.0",
            "_view_name": "HBoxView",
            "box_style": "",
            "children": [
              "IPY_MODEL_128375065f0b41658588b9eb6992f07a",
              "IPY_MODEL_69aab5e1f91440678429d539e544b669",
              "IPY_MODEL_bc3ab023122c4d408eff0afa663a75af"
            ],
            "layout": "IPY_MODEL_085d496ba7484963a4bb8fe79fbe9d8e",
            "tabbable": null,
            "tooltip": null
          }
        },
        "128375065f0b41658588b9eb6992f07a": {
          "model_module": "@jupyter-widgets/controls",
          "model_name": "HTMLModel",
          "model_module_version": "2.0.0",
          "state": {
            "_dom_classes": [],
            "_model_module": "@jupyter-widgets/controls",
            "_model_module_version": "2.0.0",
            "_model_name": "HTMLModel",
            "_view_count": null,
            "_view_module": "@jupyter-widgets/controls",
            "_view_module_version": "2.0.0",
            "_view_name": "HTMLView",
            "description": "",
            "description_allow_html": false,
            "layout": "IPY_MODEL_3617d5f2949944a08fac94132b88703b",
            "placeholder": "​",
            "style": "IPY_MODEL_3b7351ef622d48e2aecbf89ce915ba27",
            "tabbable": null,
            "tooltip": null,
            "value": "100%"
          }
        },
        "69aab5e1f91440678429d539e544b669": {
          "model_module": "@jupyter-widgets/controls",
          "model_name": "FloatProgressModel",
          "model_module_version": "2.0.0",
          "state": {
            "_dom_classes": [],
            "_model_module": "@jupyter-widgets/controls",
            "_model_module_version": "2.0.0",
            "_model_name": "FloatProgressModel",
            "_view_count": null,
            "_view_module": "@jupyter-widgets/controls",
            "_view_module_version": "2.0.0",
            "_view_name": "ProgressView",
            "bar_style": "success",
            "description": "",
            "description_allow_html": false,
            "layout": "IPY_MODEL_10086ea49e02494caca8ff6cc104d1b0",
            "max": 4542,
            "min": 0,
            "orientation": "horizontal",
            "style": "IPY_MODEL_5ba8b24a40b04c2caf572ba49ef39ab0",
            "tabbable": null,
            "tooltip": null,
            "value": 4542
          }
        },
        "bc3ab023122c4d408eff0afa663a75af": {
          "model_module": "@jupyter-widgets/controls",
          "model_name": "HTMLModel",
          "model_module_version": "2.0.0",
          "state": {
            "_dom_classes": [],
            "_model_module": "@jupyter-widgets/controls",
            "_model_module_version": "2.0.0",
            "_model_name": "HTMLModel",
            "_view_count": null,
            "_view_module": "@jupyter-widgets/controls",
            "_view_module_version": "2.0.0",
            "_view_name": "HTMLView",
            "description": "",
            "description_allow_html": false,
            "layout": "IPY_MODEL_bcfc133386994d8fba2445c1a5929737",
            "placeholder": "​",
            "style": "IPY_MODEL_5b9bf446a15a431381391325d803d525",
            "tabbable": null,
            "tooltip": null,
            "value": " 4542/4542 [00:00&lt;00:00, 157880.80it/s]"
          }
        },
        "085d496ba7484963a4bb8fe79fbe9d8e": {
          "model_module": "@jupyter-widgets/base",
          "model_name": "LayoutModel",
          "model_module_version": "2.0.0",
          "state": {
            "_model_module": "@jupyter-widgets/base",
            "_model_module_version": "2.0.0",
            "_model_name": "LayoutModel",
            "_view_count": null,
            "_view_module": "@jupyter-widgets/base",
            "_view_module_version": "2.0.0",
            "_view_name": "LayoutView",
            "align_content": null,
            "align_items": null,
            "align_self": null,
            "border_bottom": null,
            "border_left": null,
            "border_right": null,
            "border_top": null,
            "bottom": null,
            "display": null,
            "flex": null,
            "flex_flow": null,
            "grid_area": null,
            "grid_auto_columns": null,
            "grid_auto_flow": null,
            "grid_auto_rows": null,
            "grid_column": null,
            "grid_gap": null,
            "grid_row": null,
            "grid_template_areas": null,
            "grid_template_columns": null,
            "grid_template_rows": null,
            "height": null,
            "justify_content": null,
            "justify_items": null,
            "left": null,
            "margin": null,
            "max_height": null,
            "max_width": null,
            "min_height": null,
            "min_width": null,
            "object_fit": null,
            "object_position": null,
            "order": null,
            "overflow": null,
            "padding": null,
            "right": null,
            "top": null,
            "visibility": null,
            "width": null
          }
        },
        "3617d5f2949944a08fac94132b88703b": {
          "model_module": "@jupyter-widgets/base",
          "model_name": "LayoutModel",
          "model_module_version": "2.0.0",
          "state": {
            "_model_module": "@jupyter-widgets/base",
            "_model_module_version": "2.0.0",
            "_model_name": "LayoutModel",
            "_view_count": null,
            "_view_module": "@jupyter-widgets/base",
            "_view_module_version": "2.0.0",
            "_view_name": "LayoutView",
            "align_content": null,
            "align_items": null,
            "align_self": null,
            "border_bottom": null,
            "border_left": null,
            "border_right": null,
            "border_top": null,
            "bottom": null,
            "display": null,
            "flex": null,
            "flex_flow": null,
            "grid_area": null,
            "grid_auto_columns": null,
            "grid_auto_flow": null,
            "grid_auto_rows": null,
            "grid_column": null,
            "grid_gap": null,
            "grid_row": null,
            "grid_template_areas": null,
            "grid_template_columns": null,
            "grid_template_rows": null,
            "height": null,
            "justify_content": null,
            "justify_items": null,
            "left": null,
            "margin": null,
            "max_height": null,
            "max_width": null,
            "min_height": null,
            "min_width": null,
            "object_fit": null,
            "object_position": null,
            "order": null,
            "overflow": null,
            "padding": null,
            "right": null,
            "top": null,
            "visibility": null,
            "width": null
          }
        },
        "3b7351ef622d48e2aecbf89ce915ba27": {
          "model_module": "@jupyter-widgets/controls",
          "model_name": "HTMLStyleModel",
          "model_module_version": "2.0.0",
          "state": {
            "_model_module": "@jupyter-widgets/controls",
            "_model_module_version": "2.0.0",
            "_model_name": "HTMLStyleModel",
            "_view_count": null,
            "_view_module": "@jupyter-widgets/base",
            "_view_module_version": "2.0.0",
            "_view_name": "StyleView",
            "background": null,
            "description_width": "",
            "font_size": null,
            "text_color": null
          }
        },
        "10086ea49e02494caca8ff6cc104d1b0": {
          "model_module": "@jupyter-widgets/base",
          "model_name": "LayoutModel",
          "model_module_version": "2.0.0",
          "state": {
            "_model_module": "@jupyter-widgets/base",
            "_model_module_version": "2.0.0",
            "_model_name": "LayoutModel",
            "_view_count": null,
            "_view_module": "@jupyter-widgets/base",
            "_view_module_version": "2.0.0",
            "_view_name": "LayoutView",
            "align_content": null,
            "align_items": null,
            "align_self": null,
            "border_bottom": null,
            "border_left": null,
            "border_right": null,
            "border_top": null,
            "bottom": null,
            "display": null,
            "flex": null,
            "flex_flow": null,
            "grid_area": null,
            "grid_auto_columns": null,
            "grid_auto_flow": null,
            "grid_auto_rows": null,
            "grid_column": null,
            "grid_gap": null,
            "grid_row": null,
            "grid_template_areas": null,
            "grid_template_columns": null,
            "grid_template_rows": null,
            "height": null,
            "justify_content": null,
            "justify_items": null,
            "left": null,
            "margin": null,
            "max_height": null,
            "max_width": null,
            "min_height": null,
            "min_width": null,
            "object_fit": null,
            "object_position": null,
            "order": null,
            "overflow": null,
            "padding": null,
            "right": null,
            "top": null,
            "visibility": null,
            "width": null
          }
        },
        "5ba8b24a40b04c2caf572ba49ef39ab0": {
          "model_module": "@jupyter-widgets/controls",
          "model_name": "ProgressStyleModel",
          "model_module_version": "2.0.0",
          "state": {
            "_model_module": "@jupyter-widgets/controls",
            "_model_module_version": "2.0.0",
            "_model_name": "ProgressStyleModel",
            "_view_count": null,
            "_view_module": "@jupyter-widgets/base",
            "_view_module_version": "2.0.0",
            "_view_name": "StyleView",
            "bar_color": null,
            "description_width": ""
          }
        },
        "bcfc133386994d8fba2445c1a5929737": {
          "model_module": "@jupyter-widgets/base",
          "model_name": "LayoutModel",
          "model_module_version": "2.0.0",
          "state": {
            "_model_module": "@jupyter-widgets/base",
            "_model_module_version": "2.0.0",
            "_model_name": "LayoutModel",
            "_view_count": null,
            "_view_module": "@jupyter-widgets/base",
            "_view_module_version": "2.0.0",
            "_view_name": "LayoutView",
            "align_content": null,
            "align_items": null,
            "align_self": null,
            "border_bottom": null,
            "border_left": null,
            "border_right": null,
            "border_top": null,
            "bottom": null,
            "display": null,
            "flex": null,
            "flex_flow": null,
            "grid_area": null,
            "grid_auto_columns": null,
            "grid_auto_flow": null,
            "grid_auto_rows": null,
            "grid_column": null,
            "grid_gap": null,
            "grid_row": null,
            "grid_template_areas": null,
            "grid_template_columns": null,
            "grid_template_rows": null,
            "height": null,
            "justify_content": null,
            "justify_items": null,
            "left": null,
            "margin": null,
            "max_height": null,
            "max_width": null,
            "min_height": null,
            "min_width": null,
            "object_fit": null,
            "object_position": null,
            "order": null,
            "overflow": null,
            "padding": null,
            "right": null,
            "top": null,
            "visibility": null,
            "width": null
          }
        },
        "5b9bf446a15a431381391325d803d525": {
          "model_module": "@jupyter-widgets/controls",
          "model_name": "HTMLStyleModel",
          "model_module_version": "2.0.0",
          "state": {
            "_model_module": "@jupyter-widgets/controls",
            "_model_module_version": "2.0.0",
            "_model_name": "HTMLStyleModel",
            "_view_count": null,
            "_view_module": "@jupyter-widgets/base",
            "_view_module_version": "2.0.0",
            "_view_name": "StyleView",
            "background": null,
            "description_width": "",
            "font_size": null,
            "text_color": null
          }
        }
      }
    }
  },
  "cells": [
    {
      "cell_type": "markdown",
      "source": [
        "### BaseLine Module"
      ],
      "metadata": {
        "id": "WBBKVPcGO0CS"
      }
    },
    {
      "cell_type": "code",
      "execution_count": null,
      "metadata": {
        "id": "V1jDbbHiOzSN"
      },
      "outputs": [],
      "source": [
        "import torch\n",
        "import torch.nn as nn\n",
        "import numpy as np\n",
        "import torchvision\n",
        "import torch.nn.functional as F\n",
        "from torchvision import transforms, datasets\n",
        "from torch import optim\n",
        "from torchvision.transforms.transforms import Resize\n",
        "import matplotlib.pyplot as plt\n",
        "from torch.utils.data.sampler import SubsetRandomSampler\n",
        "import time \n",
        "import sys\n",
        "from sklearn import metrics\n",
        "from sklearn.metrics import confusion_matrix,ConfusionMatrixDisplay\n",
        "\n",
        "import copy\n",
        "import logging"
      ]
    },
    {
      "cell_type": "code",
      "source": [
        "# gaussian error linear unit as Af\n",
        "def gelu(x):\n",
        "    return torch.sigmoid(1.702 * x) * x\n",
        "\n",
        "\n",
        "class ConvNet(nn.Module):\n",
        "  def __init__(self):\n",
        "    super(ConvNet, self).__init__()\n",
        "    self.conv1 = nn.Conv2d(1,10,kernel_size=5)\n",
        "    self.conv2 = nn.Conv2d(10 ,20 ,kernel_size=5)\n",
        "    self.dropout = nn.Dropout()\n",
        "    self.fc1 = nn.Linear(320,50)\n",
        "    self.fc2 = nn.Linear(50 ,10)\n",
        "  \n",
        "  def forward(self,x):\n",
        "    x = gelu(F.max_pool2d(self.conv1(x),2))\n",
        "    x = self.conv2(x)\n",
        "    x = self.dropout(x)\n",
        "    x = F.max_pool2d(x,2)\n",
        "    x = gelu(x)\n",
        "    x = x.view(-1 ,320)\n",
        "    x = self.fc1(x)\n",
        "    x = gelu(x)\n",
        "    x = self.fc2(x)\n",
        "    return x \n",
        "\n"
      ],
      "metadata": {
        "id": "T8yHJhqxPEHf"
      },
      "execution_count": null,
      "outputs": []
    },
    {
      "cell_type": "markdown",
      "source": [
        "### **Data & Preprocessing**"
      ],
      "metadata": {
        "id": "kON82-5gVfx8"
      }
    },
    {
      "cell_type": "code",
      "source": [
        "logger = logging.getLogger(__name__)\n",
        "logger.setLevel(logging.DEBUG)\n",
        "logger.addHandler(logging.StreamHandler(sys.stdout))\n",
        "\n",
        "PATH = './MNIST_OSR.pth'\n",
        "# Torch/PIL transformations which are applied to each image in the dataset\n",
        "transform = transforms.Compose([\n",
        "                    transforms.Resize((28,28)),\n",
        "                    transforms.RandomAffine(degrees=20, translate=(0.1,0.1), scale=(0.9, 1.1)),\n",
        "                    transforms.ColorJitter(brightness=0.2, contrast=0.2),\n",
        "                    transforms.ToTensor(),\n",
        "                    transforms.Normalize((0.5,), (0.5,)),\n",
        "                    ])\n",
        "\n",
        "# no need for augmentations for our evaluation\n",
        "test_transform = transforms.Compose([transforms.ToTensor(), transforms.Normalize((0.5,), (0.5,))])\n",
        "\n",
        "ood_transform = transforms.Compose([\n",
        "                    transforms.Resize((28,28)),\n",
        "                    transforms.Grayscale(),\n",
        "                    transforms.ToTensor(),\n",
        "                    transforms.Normalize((0.5,), (0.5,)),\n",
        "                    ])\n",
        "batch_size = 128\n",
        "torch.manual_seed(0)\n",
        "np.random.seed(0)\n",
        "\n",
        "oodset = torchvision.datasets.CIFAR10(root='./data', train=False,\n",
        "                                        download=True, transform=ood_transform)\n",
        "oodset,_ = torch.utils.data.random_split(oodset,[300,len(oodset)-300])\n",
        "\n",
        "oodloader = torch.utils.data.DataLoader(oodset,batch_size=batch_size,shuffle=False,num_workers=4)\n",
        "\n",
        "\n",
        "trainset = torchvision.datasets.MNIST(root='./data', train=True,\n",
        "                                        download=True, transform=transform)\n",
        "\n",
        "testset = torchvision.datasets.MNIST(root='./data', train=False,\n",
        "                                       download=True, transform=test_transform)\n",
        "\n",
        "val_size = int(0.2 * len(trainset))\n",
        "trainset ,validationset = torch.utils.data.random_split(trainset,[(len(trainset)-val_size),val_size])\n",
        "\n",
        "#####################################################\n",
        "\n",
        "trainloader = torch.utils.data.DataLoader(trainset, batch_size=batch_size,\n",
        "                                          shuffle=True,\n",
        "                                           num_workers=4)\n",
        "\n",
        "valoader = torch.utils.data.DataLoader(validationset, batch_size=batch_size,\n",
        "                                          shuffle=True, num_workers=4)\n",
        "\n",
        "dataloader = {'train':trainloader , 'validation':valoader}\n",
        "dataset_sizes = {\"train\": len(trainset),'validation':len(validationset)}\n",
        "\n",
        "testloader = torch.utils.data.DataLoader(testset, batch_size=batch_size,\n",
        "                                         shuffle=False, num_workers=4)\n",
        "\n",
        "device = torch.device(\"cuda\" if torch.cuda.is_available() else \"cpu\")   \n",
        "\n",
        "if torch.cuda.is_available():\n",
        "  print('GPU NAME:', torch.cuda.get_device_name(0)) \n",
        "\n",
        "model = ConvNet().to(device)\n",
        "criterion = nn.CrossEntropyLoss()\n",
        "optimizer = optim.SGD(model.parameters(), lr=0.003, momentum=0.9)\n",
        "scheduler= optim.lr_scheduler.CosineAnnealingWarmRestarts(optimizer, 5, eta_min=0, last_epoch=-1)\n"
      ],
      "metadata": {
        "id": "cQjJF-gYw8Wg",
        "colab": {
          "base_uri": "https://localhost:8080/",
          "height": 401,
          "referenced_widgets": [
            "2d6a18beab5c4acb94808fc6e8cf74dd",
            "fdc9df98a8e94bda8f0ac51273d49313",
            "52817e24d5da4801863786ab0397adda",
            "3cce0a069b4847b3a239f3acb58bc3ac",
            "b15a284c1d1c405e852c8e5e638c4a93",
            "00785ee4dae9410688f3ae15aa918201",
            "b2ea565e386c474e8a7a1ea8f2503021",
            "0e7f5fd912f849ef85f0d4e7fa691754",
            "c1f66e31f65e41cfa9c250c68eca1684",
            "150d8024b3004a06866d522749cf728b",
            "f0dbe72c41a14365b33ed6034eaf75fe",
            "30a437be0f4d44aa8dc282358e57812c",
            "1222a077beed49c8bd517d8b5d303179",
            "1eca10cd97c6446696f55df3bfcfbc96",
            "ff75aad8667148c0abf6f82d344ee9ed",
            "a84016ed502b410f83956446b4633265",
            "12725fe9a90d43d0809da7112e55099b",
            "0cd033b6103743c9bc753d571fb1f623",
            "ce89427a64404fbba4b41ebd4bfc3929",
            "2c40633618be4aa6afa1df0733a867eb",
            "920ee42c011d44c7ac1da5004e7ebf5b",
            "a196552509944a138c2313218f62221b",
            "2cdfc65a8e7344e2a2647bcc6da56aef",
            "9703e116abba4498b54db23bdaf79e7c",
            "819acf4f57184772a75e47301e8443ca",
            "e51b38c4597e46559d3ca4616ac47383",
            "8a1c09cf14f94015a63ba8dc36cd61a4",
            "330f250a20484eadb696d7856e7e2caf",
            "0f5ee86f34374a7a8823a8f1be62ef8a",
            "085019dbb45448fb8409d8339bc853d1",
            "b1deed47ec4e4871bc413e32320b7185",
            "a2389fc69a35498e9149905006870d78",
            "2229942745764ae78dfed9b83b22446a",
            "6fe1e54f9b294b24a4e51018bd44eb00",
            "f3e6e5328935469c9ee4971010c3fc9e",
            "322b829085fe4ca4a32722f8b1ae1dbe",
            "4774554b287d47efb66a8c35e6c2f2c9",
            "a8bcee678a2b4950a68025a86bc8dd82",
            "dd14a7d60c62401380b9deb2559e2558",
            "492ab844735245a7a6ec713e69918aa5",
            "211e2b93502e483096505900e6ae071c",
            "ff0b7958cbae4f31aa5bf0226f592374",
            "4aab34ca2c0c4340bb6947334df161bb",
            "2b656d1eb9904c0c9a5bdc62bb665177",
            "b37997fe72174af3a25a167ec16d5e39",
            "128375065f0b41658588b9eb6992f07a",
            "69aab5e1f91440678429d539e544b669",
            "bc3ab023122c4d408eff0afa663a75af",
            "085d496ba7484963a4bb8fe79fbe9d8e",
            "3617d5f2949944a08fac94132b88703b",
            "3b7351ef622d48e2aecbf89ce915ba27",
            "10086ea49e02494caca8ff6cc104d1b0",
            "5ba8b24a40b04c2caf572ba49ef39ab0",
            "bcfc133386994d8fba2445c1a5929737",
            "5b9bf446a15a431381391325d803d525"
          ]
        },
        "outputId": "6d2a4503-6707-4a7b-edbe-92be71fce2a7"
      },
      "execution_count": null,
      "outputs": [
        {
          "output_type": "stream",
          "name": "stdout",
          "text": [
            "Downloading https://www.cs.toronto.edu/~kriz/cifar-10-python.tar.gz to ./data/cifar-10-python.tar.gz\n"
          ]
        },
        {
          "output_type": "display_data",
          "data": {
            "text/plain": [
              "  0%|          | 0/170498071 [00:00<?, ?it/s]"
            ],
            "application/vnd.jupyter.widget-view+json": {
              "version_major": 2,
              "version_minor": 0,
              "model_id": "2d6a18beab5c4acb94808fc6e8cf74dd"
            },
            "application/json": {
              "n": 0,
              "total": 170498071,
              "elapsed": 0.018535852432250977,
              "ncols": null,
              "nrows": null,
              "prefix": "",
              "ascii": false,
              "unit": "it",
              "unit_scale": false,
              "rate": null,
              "bar_format": null,
              "postfix": null,
              "unit_divisor": 1000,
              "initial": 0,
              "colour": null
            }
          },
          "metadata": {}
        },
        {
          "output_type": "stream",
          "name": "stdout",
          "text": [
            "Extracting ./data/cifar-10-python.tar.gz to ./data\n"
          ]
        },
        {
          "output_type": "stream",
          "name": "stderr",
          "text": [
            "/usr/local/lib/python3.7/dist-packages/torch/utils/data/dataloader.py:566: UserWarning: This DataLoader will create 4 worker processes in total. Our suggested max number of worker in current system is 2, which is smaller than what this DataLoader is going to create. Please be aware that excessive worker creation might get DataLoader running slow or even freeze, lower the worker number to avoid potential slowness/freeze if necessary.\n",
            "  cpuset_checked))\n"
          ]
        },
        {
          "output_type": "stream",
          "name": "stdout",
          "text": [
            "Downloading http://yann.lecun.com/exdb/mnist/train-images-idx3-ubyte.gz\n",
            "Downloading http://yann.lecun.com/exdb/mnist/train-images-idx3-ubyte.gz to ./data/MNIST/raw/train-images-idx3-ubyte.gz\n"
          ]
        },
        {
          "output_type": "display_data",
          "data": {
            "text/plain": [
              "  0%|          | 0/9912422 [00:00<?, ?it/s]"
            ],
            "application/vnd.jupyter.widget-view+json": {
              "version_major": 2,
              "version_minor": 0,
              "model_id": "30a437be0f4d44aa8dc282358e57812c"
            },
            "application/json": {
              "n": 0,
              "total": 9912422,
              "elapsed": 0.12744951248168945,
              "ncols": null,
              "nrows": null,
              "prefix": "",
              "ascii": false,
              "unit": "it",
              "unit_scale": false,
              "rate": null,
              "bar_format": null,
              "postfix": null,
              "unit_divisor": 1000,
              "initial": 0,
              "colour": null
            }
          },
          "metadata": {}
        },
        {
          "output_type": "stream",
          "name": "stdout",
          "text": [
            "Extracting ./data/MNIST/raw/train-images-idx3-ubyte.gz to ./data/MNIST/raw\n",
            "\n",
            "Downloading http://yann.lecun.com/exdb/mnist/train-labels-idx1-ubyte.gz\n",
            "Downloading http://yann.lecun.com/exdb/mnist/train-labels-idx1-ubyte.gz to ./data/MNIST/raw/train-labels-idx1-ubyte.gz\n"
          ]
        },
        {
          "output_type": "display_data",
          "data": {
            "text/plain": [
              "  0%|          | 0/28881 [00:00<?, ?it/s]"
            ],
            "application/vnd.jupyter.widget-view+json": {
              "version_major": 2,
              "version_minor": 0,
              "model_id": "2cdfc65a8e7344e2a2647bcc6da56aef"
            },
            "application/json": {
              "n": 0,
              "total": 28881,
              "elapsed": 0.0184478759765625,
              "ncols": null,
              "nrows": null,
              "prefix": "",
              "ascii": false,
              "unit": "it",
              "unit_scale": false,
              "rate": null,
              "bar_format": null,
              "postfix": null,
              "unit_divisor": 1000,
              "initial": 0,
              "colour": null
            }
          },
          "metadata": {}
        },
        {
          "output_type": "stream",
          "name": "stdout",
          "text": [
            "Extracting ./data/MNIST/raw/train-labels-idx1-ubyte.gz to ./data/MNIST/raw\n",
            "\n",
            "Downloading http://yann.lecun.com/exdb/mnist/t10k-images-idx3-ubyte.gz\n",
            "Downloading http://yann.lecun.com/exdb/mnist/t10k-images-idx3-ubyte.gz to ./data/MNIST/raw/t10k-images-idx3-ubyte.gz\n"
          ]
        },
        {
          "output_type": "display_data",
          "data": {
            "text/plain": [
              "  0%|          | 0/1648877 [00:00<?, ?it/s]"
            ],
            "application/vnd.jupyter.widget-view+json": {
              "version_major": 2,
              "version_minor": 0,
              "model_id": "6fe1e54f9b294b24a4e51018bd44eb00"
            },
            "application/json": {
              "n": 0,
              "total": 1648877,
              "elapsed": 0.018113136291503906,
              "ncols": null,
              "nrows": null,
              "prefix": "",
              "ascii": false,
              "unit": "it",
              "unit_scale": false,
              "rate": null,
              "bar_format": null,
              "postfix": null,
              "unit_divisor": 1000,
              "initial": 0,
              "colour": null
            }
          },
          "metadata": {}
        },
        {
          "output_type": "stream",
          "name": "stdout",
          "text": [
            "Extracting ./data/MNIST/raw/t10k-images-idx3-ubyte.gz to ./data/MNIST/raw\n",
            "\n",
            "Downloading http://yann.lecun.com/exdb/mnist/t10k-labels-idx1-ubyte.gz\n",
            "Downloading http://yann.lecun.com/exdb/mnist/t10k-labels-idx1-ubyte.gz to ./data/MNIST/raw/t10k-labels-idx1-ubyte.gz\n"
          ]
        },
        {
          "output_type": "display_data",
          "data": {
            "text/plain": [
              "  0%|          | 0/4542 [00:00<?, ?it/s]"
            ],
            "application/vnd.jupyter.widget-view+json": {
              "version_major": 2,
              "version_minor": 0,
              "model_id": "b37997fe72174af3a25a167ec16d5e39"
            },
            "application/json": {
              "n": 0,
              "total": 4542,
              "elapsed": 0.021868228912353516,
              "ncols": null,
              "nrows": null,
              "prefix": "",
              "ascii": false,
              "unit": "it",
              "unit_scale": false,
              "rate": null,
              "bar_format": null,
              "postfix": null,
              "unit_divisor": 1000,
              "initial": 0,
              "colour": null
            }
          },
          "metadata": {}
        },
        {
          "output_type": "stream",
          "name": "stdout",
          "text": [
            "Extracting ./data/MNIST/raw/t10k-labels-idx1-ubyte.gz to ./data/MNIST/raw\n",
            "\n",
            "GPU NAME: Tesla T4\n"
          ]
        }
      ]
    },
    {
      "cell_type": "markdown",
      "source": [
        "### **Training**"
      ],
      "metadata": {
        "id": "8l4NNpVrw48e"
      }
    },
    {
      "cell_type": "code",
      "source": [
        "def train_model(model,dataloader,dataset_sizes,criterion,optimizer,scheduler,epochs=30):\n",
        "    # Define Forward Procedure\n",
        "    since = time.time()\n",
        "\n",
        "    best_model_wts = copy.deepcopy(model.state_dict())\n",
        "    best_acc = 0.0\n",
        "\n",
        "    for epoch in range(epochs):\n",
        "        print('Epoch {}/{}'.format(epoch+1, epochs))\n",
        "        print('-' * 10)\n",
        "\n",
        "        # Each epoch has a training and validation phase\n",
        "        for phase in ['train', 'validation']:\n",
        "            if phase == 'train':\n",
        "                model.train()  # Set model to training mode\n",
        "            else:\n",
        "                model.eval()   # Set model to evaluate mode\n",
        "            \n",
        "            running_loss = 0.0\n",
        "            running_corrects = 0\n",
        "\n",
        "            # Iterate over data.\n",
        "            for inputs, labels in dataloader[phase]:\n",
        "                inputs = inputs.to(device)\n",
        "                labels = labels.to(device)\n",
        "\n",
        "                # zero the parameter gradients\n",
        "                optimizer.zero_grad()\n",
        "\n",
        "                # forward\n",
        "                # track history if only in train\n",
        "                with torch.set_grad_enabled(phase == 'train'):\n",
        "                    outputs = model(inputs)\n",
        "                    _, preds = torch.max(outputs, 1)\n",
        "                    loss = criterion(outputs, labels)\n",
        "\n",
        "                    # backward + optimize only if in training phase\n",
        "                    if phase == 'train':\n",
        "                        loss.backward()\n",
        "                        optimizer.step()\n",
        "\n",
        "                # statistics\n",
        "                running_loss += loss.item() * inputs.size(0)\n",
        "                running_corrects += torch.sum(preds == labels.data)\n",
        "                    \n",
        "                if phase == 'train':\n",
        "                    scheduler.step()\n",
        "                \n",
        "            epoch_loss = running_loss / dataset_sizes[phase]\n",
        "            epoch_acc = running_corrects.double() / dataset_sizes[phase]\n",
        "            \n",
        "            logger.info('{} Loss: {:.4f}; {} Acc: {:.4f};'.format(\n",
        "                phase, epoch_loss, phase, epoch_acc))\n",
        "\n",
        "            # deep copy the model\n",
        "            if phase == 'validation' and epoch_acc > best_acc:\n",
        "                \n",
        "                best_acc = epoch_acc\n",
        "                best_model_wts = copy.deepcopy(model.state_dict())\n",
        "                \n",
        "        logger.info('epoch: {}; lr: {};'.format(epoch+1, scheduler.get_last_lr()[0]))       \n",
        "        print()                        \n",
        "\n",
        "    time_elapsed = time.time() - since\n",
        "    print('Training complete in {:.0f}m {:.0f}s'.format(\n",
        "        time_elapsed // 60, time_elapsed % 60))\n",
        "    print('Best validation Acc: {:4f}'.format(best_acc))\n",
        "\n",
        "    # load best model weights\n",
        "    model.load_state_dict(best_model_wts)\n",
        "    \n",
        "    # save the model\n",
        "    torch.save(model.state_dict(), PATH)\n",
        "    print()\n",
        "    \n",
        "    # Evaluate best model weights\n",
        "    print('Evaluating best weights:')\n",
        "    print('-' * 20)\n",
        "    \n",
        "    model = model.to(device)\n",
        "    \n",
        "    model.eval()\n",
        "    \n",
        "    for phase in dataloader:\n",
        "\n",
        "        running_loss = 0.0\n",
        "        running_corrects = 0\n",
        "        \n",
        "        # Store results in nested dicts per dataset being used for inference\n",
        "        results = {'y_true': [], 'y_pred': []}\n",
        "\n",
        "        # Iterate over data.\n",
        "        for inputs, labels in dataloader[phase]:\n",
        "            inputs = inputs.to(device)\n",
        "            labels = labels.to(device)\n",
        "            \n",
        "            outputs = model(inputs)\n",
        "            _, preds = torch.max(outputs, 1)\n",
        "            loss = criterion(outputs, labels)\n",
        "            \n",
        "            labels_arr = np.array(labels.data.cpu())\n",
        "            preds_arr = np.array(preds.cpu())\n",
        "\n",
        "            results['y_true'].append(labels.data.cpu())\n",
        "            results['y_pred'].append(preds.cpu())\n",
        "\n",
        "            # statistics\n",
        "            running_loss += loss.item() * inputs.size(0)\n",
        "            running_corrects += torch.sum(preds == labels.data)\n",
        "            \n",
        "        results['y_true'] = np.array(torch.cat(results['y_true']))\n",
        "        results['y_pred'] = np.array(torch.cat(results['y_pred']))\n",
        "\n",
        "        epoch_loss = running_loss / dataset_sizes[phase]\n",
        "        epoch_acc = running_corrects.double() / dataset_sizes[phase]\n",
        "\n",
        "        print('{} Loss: {:.4f} Acc: {:.4f}'.format(\n",
        "            phase, epoch_loss, epoch_acc))\n",
        "        \n",
        "        # Compute average F1 score (class f1 scores are weighted according to relative class frequency)\n",
        "        f1_scores = metrics.f1_score(results['y_true'], \n",
        "                                 results['y_pred'],\n",
        "                                 average='weighted')\n",
        "\n",
        "        avg_f1 = np.mean(f1_scores)\n",
        "\n",
        "        logger.info('{} Avg. F1 Score: {:.3f};'.format(phase, avg_f1))\n",
        "\n",
        "        print()\n"
      ],
      "metadata": {
        "id": "2uaFQJFwMfR7"
      },
      "execution_count": null,
      "outputs": []
    },
    {
      "cell_type": "code",
      "source": [
        "def test(model,testloader):\n",
        "    model.eval()\n",
        "    loss_avg = 0.0\n",
        "    correct = 0\n",
        "    labels = list(range(10))\n",
        "    results = {'y_true': [], 'y_pred': []}\n",
        "    with torch.no_grad():\n",
        "        for data, target in testloader:\n",
        "            data, target = data.to(device), target.to(device)\n",
        "\n",
        "            # forward\n",
        "            output = model(data)\n",
        "            loss = F.cross_entropy(output, target)\n",
        "\n",
        "            # accuracy\n",
        "            pred = output.data.max(1)[1]\n",
        "            results['y_true'].append(target.data.cpu())\n",
        "            results['y_pred'].append(pred.cpu())\n",
        "            correct += pred.eq(target.data).sum().item()\n",
        "            # test loss average\n",
        "            loss_avg += float(loss.data)\n",
        "    results['y_true'] = np.array(torch.cat(results['y_true']))\n",
        "    results['y_pred'] = np.array(torch.cat(results['y_pred']))\n",
        "    # print(results['y_pred'])\n",
        "    # print(results['y_true'])\n",
        "    mat = confusion_matrix(results['y_true'],results['y_pred'])\n",
        "    disp = ConfusionMatrixDisplay(mat,display_labels=labels)\n",
        "    disp.plot()\n",
        "    print(\"test accuracy : \",correct / len(testloader.dataset))\n",
        "    plt.show()"
      ],
      "metadata": {
        "id": "VEhfKGIHAcup"
      },
      "execution_count": null,
      "outputs": []
    },
    {
      "cell_type": "markdown",
      "source": [
        "train and Save the model"
      ],
      "metadata": {
        "id": "hw0p4BLb8cIg"
      }
    },
    {
      "cell_type": "code",
      "source": [
        "train_model(model,dataloader,dataset_sizes,criterion,optimizer,scheduler)\n",
        "test(model,testloader)"
      ],
      "metadata": {
        "colab": {
          "base_uri": "https://localhost:8080/",
          "height": 5296
        },
        "id": "c4h2fQPV8gDP",
        "outputId": "b498a401-111a-4d58-94c3-72f26cf86e4b"
      },
      "execution_count": null,
      "outputs": [
        {
          "output_type": "stream",
          "name": "stdout",
          "text": [
            "Epoch 1/30\n",
            "----------\n",
            "train Loss: 1.9336; train Acc: 0.3152;\n"
          ]
        },
        {
          "output_type": "stream",
          "name": "stderr",
          "text": [
            "INFO:__main__:train Loss: 1.9336; train Acc: 0.3152;\n"
          ]
        },
        {
          "output_type": "stream",
          "name": "stdout",
          "text": [
            "validation Loss: 1.3013; validation Acc: 0.6499;\n"
          ]
        },
        {
          "output_type": "stream",
          "name": "stderr",
          "text": [
            "INFO:__main__:validation Loss: 1.3013; validation Acc: 0.6499;\n"
          ]
        },
        {
          "output_type": "stream",
          "name": "stdout",
          "text": [
            "epoch: 1; lr: 0.003;\n"
          ]
        },
        {
          "output_type": "stream",
          "name": "stderr",
          "text": [
            "INFO:__main__:epoch: 1; lr: 0.003;\n"
          ]
        },
        {
          "output_type": "stream",
          "name": "stdout",
          "text": [
            "\n",
            "Epoch 2/30\n",
            "----------\n",
            "train Loss: 0.7888; train Acc: 0.7473;\n"
          ]
        },
        {
          "output_type": "stream",
          "name": "stderr",
          "text": [
            "INFO:__main__:train Loss: 0.7888; train Acc: 0.7473;\n"
          ]
        },
        {
          "output_type": "stream",
          "name": "stdout",
          "text": [
            "validation Loss: 0.6431; validation Acc: 0.8434;\n"
          ]
        },
        {
          "output_type": "stream",
          "name": "stderr",
          "text": [
            "INFO:__main__:validation Loss: 0.6431; validation Acc: 0.8434;\n"
          ]
        },
        {
          "output_type": "stream",
          "name": "stdout",
          "text": [
            "epoch: 2; lr: 0.003;\n"
          ]
        },
        {
          "output_type": "stream",
          "name": "stderr",
          "text": [
            "INFO:__main__:epoch: 2; lr: 0.003;\n"
          ]
        },
        {
          "output_type": "stream",
          "name": "stdout",
          "text": [
            "\n",
            "Epoch 3/30\n",
            "----------\n",
            "train Loss: 0.4732; train Acc: 0.8521;\n"
          ]
        },
        {
          "output_type": "stream",
          "name": "stderr",
          "text": [
            "INFO:__main__:train Loss: 0.4732; train Acc: 0.8521;\n"
          ]
        },
        {
          "output_type": "stream",
          "name": "stdout",
          "text": [
            "validation Loss: 0.4506; validation Acc: 0.8960;\n"
          ]
        },
        {
          "output_type": "stream",
          "name": "stderr",
          "text": [
            "INFO:__main__:validation Loss: 0.4506; validation Acc: 0.8960;\n"
          ]
        },
        {
          "output_type": "stream",
          "name": "stdout",
          "text": [
            "epoch: 3; lr: 0.003;\n"
          ]
        },
        {
          "output_type": "stream",
          "name": "stderr",
          "text": [
            "INFO:__main__:epoch: 3; lr: 0.003;\n"
          ]
        },
        {
          "output_type": "stream",
          "name": "stdout",
          "text": [
            "\n",
            "Epoch 4/30\n",
            "----------\n",
            "train Loss: 0.3648; train Acc: 0.8855;\n"
          ]
        },
        {
          "output_type": "stream",
          "name": "stderr",
          "text": [
            "INFO:__main__:train Loss: 0.3648; train Acc: 0.8855;\n"
          ]
        },
        {
          "output_type": "stream",
          "name": "stdout",
          "text": [
            "validation Loss: 0.3526; validation Acc: 0.9201;\n"
          ]
        },
        {
          "output_type": "stream",
          "name": "stderr",
          "text": [
            "INFO:__main__:validation Loss: 0.3526; validation Acc: 0.9201;\n"
          ]
        },
        {
          "output_type": "stream",
          "name": "stdout",
          "text": [
            "epoch: 4; lr: 0.003;\n"
          ]
        },
        {
          "output_type": "stream",
          "name": "stderr",
          "text": [
            "INFO:__main__:epoch: 4; lr: 0.003;\n"
          ]
        },
        {
          "output_type": "stream",
          "name": "stdout",
          "text": [
            "\n",
            "Epoch 5/30\n",
            "----------\n",
            "train Loss: 0.3068; train Acc: 0.9056;\n"
          ]
        },
        {
          "output_type": "stream",
          "name": "stderr",
          "text": [
            "INFO:__main__:train Loss: 0.3068; train Acc: 0.9056;\n"
          ]
        },
        {
          "output_type": "stream",
          "name": "stdout",
          "text": [
            "validation Loss: 0.2978; validation Acc: 0.9327;\n"
          ]
        },
        {
          "output_type": "stream",
          "name": "stderr",
          "text": [
            "INFO:__main__:validation Loss: 0.2978; validation Acc: 0.9327;\n"
          ]
        },
        {
          "output_type": "stream",
          "name": "stdout",
          "text": [
            "epoch: 5; lr: 0.003;\n"
          ]
        },
        {
          "output_type": "stream",
          "name": "stderr",
          "text": [
            "INFO:__main__:epoch: 5; lr: 0.003;\n"
          ]
        },
        {
          "output_type": "stream",
          "name": "stdout",
          "text": [
            "\n",
            "Epoch 6/30\n",
            "----------\n",
            "train Loss: 0.2665; train Acc: 0.9201;\n"
          ]
        },
        {
          "output_type": "stream",
          "name": "stderr",
          "text": [
            "INFO:__main__:train Loss: 0.2665; train Acc: 0.9201;\n"
          ]
        },
        {
          "output_type": "stream",
          "name": "stdout",
          "text": [
            "validation Loss: 0.2732; validation Acc: 0.9372;\n"
          ]
        },
        {
          "output_type": "stream",
          "name": "stderr",
          "text": [
            "INFO:__main__:validation Loss: 0.2732; validation Acc: 0.9372;\n"
          ]
        },
        {
          "output_type": "stream",
          "name": "stdout",
          "text": [
            "epoch: 6; lr: 0.003;\n"
          ]
        },
        {
          "output_type": "stream",
          "name": "stderr",
          "text": [
            "INFO:__main__:epoch: 6; lr: 0.003;\n"
          ]
        },
        {
          "output_type": "stream",
          "name": "stdout",
          "text": [
            "\n",
            "Epoch 7/30\n",
            "----------\n",
            "train Loss: 0.2442; train Acc: 0.9242;\n"
          ]
        },
        {
          "output_type": "stream",
          "name": "stderr",
          "text": [
            "INFO:__main__:train Loss: 0.2442; train Acc: 0.9242;\n"
          ]
        },
        {
          "output_type": "stream",
          "name": "stdout",
          "text": [
            "validation Loss: 0.2445; validation Acc: 0.9440;\n"
          ]
        },
        {
          "output_type": "stream",
          "name": "stderr",
          "text": [
            "INFO:__main__:validation Loss: 0.2445; validation Acc: 0.9440;\n"
          ]
        },
        {
          "output_type": "stream",
          "name": "stdout",
          "text": [
            "epoch: 7; lr: 0.003;\n"
          ]
        },
        {
          "output_type": "stream",
          "name": "stderr",
          "text": [
            "INFO:__main__:epoch: 7; lr: 0.003;\n"
          ]
        },
        {
          "output_type": "stream",
          "name": "stdout",
          "text": [
            "\n",
            "Epoch 8/30\n",
            "----------\n",
            "train Loss: 0.2246; train Acc: 0.9317;\n"
          ]
        },
        {
          "output_type": "stream",
          "name": "stderr",
          "text": [
            "INFO:__main__:train Loss: 0.2246; train Acc: 0.9317;\n"
          ]
        },
        {
          "output_type": "stream",
          "name": "stdout",
          "text": [
            "validation Loss: 0.2274; validation Acc: 0.9485;\n"
          ]
        },
        {
          "output_type": "stream",
          "name": "stderr",
          "text": [
            "INFO:__main__:validation Loss: 0.2274; validation Acc: 0.9485;\n"
          ]
        },
        {
          "output_type": "stream",
          "name": "stdout",
          "text": [
            "epoch: 8; lr: 0.003;\n"
          ]
        },
        {
          "output_type": "stream",
          "name": "stderr",
          "text": [
            "INFO:__main__:epoch: 8; lr: 0.003;\n"
          ]
        },
        {
          "output_type": "stream",
          "name": "stdout",
          "text": [
            "\n",
            "Epoch 9/30\n",
            "----------\n",
            "train Loss: 0.2065; train Acc: 0.9374;\n"
          ]
        },
        {
          "output_type": "stream",
          "name": "stderr",
          "text": [
            "INFO:__main__:train Loss: 0.2065; train Acc: 0.9374;\n"
          ]
        },
        {
          "output_type": "stream",
          "name": "stdout",
          "text": [
            "validation Loss: 0.2165; validation Acc: 0.9499;\n"
          ]
        },
        {
          "output_type": "stream",
          "name": "stderr",
          "text": [
            "INFO:__main__:validation Loss: 0.2165; validation Acc: 0.9499;\n"
          ]
        },
        {
          "output_type": "stream",
          "name": "stdout",
          "text": [
            "epoch: 9; lr: 0.003;\n"
          ]
        },
        {
          "output_type": "stream",
          "name": "stderr",
          "text": [
            "INFO:__main__:epoch: 9; lr: 0.003;\n"
          ]
        },
        {
          "output_type": "stream",
          "name": "stdout",
          "text": [
            "\n",
            "Epoch 10/30\n",
            "----------\n",
            "train Loss: 0.1966; train Acc: 0.9402;\n"
          ]
        },
        {
          "output_type": "stream",
          "name": "stderr",
          "text": [
            "INFO:__main__:train Loss: 0.1966; train Acc: 0.9402;\n"
          ]
        },
        {
          "output_type": "stream",
          "name": "stdout",
          "text": [
            "validation Loss: 0.1956; validation Acc: 0.9532;\n"
          ]
        },
        {
          "output_type": "stream",
          "name": "stderr",
          "text": [
            "INFO:__main__:validation Loss: 0.1956; validation Acc: 0.9532;\n"
          ]
        },
        {
          "output_type": "stream",
          "name": "stdout",
          "text": [
            "epoch: 10; lr: 0.003;\n"
          ]
        },
        {
          "output_type": "stream",
          "name": "stderr",
          "text": [
            "INFO:__main__:epoch: 10; lr: 0.003;\n"
          ]
        },
        {
          "output_type": "stream",
          "name": "stdout",
          "text": [
            "\n",
            "Epoch 11/30\n",
            "----------\n",
            "train Loss: 0.1854; train Acc: 0.9430;\n"
          ]
        },
        {
          "output_type": "stream",
          "name": "stderr",
          "text": [
            "INFO:__main__:train Loss: 0.1854; train Acc: 0.9430;\n"
          ]
        },
        {
          "output_type": "stream",
          "name": "stdout",
          "text": [
            "validation Loss: 0.1804; validation Acc: 0.9572;\n"
          ]
        },
        {
          "output_type": "stream",
          "name": "stderr",
          "text": [
            "INFO:__main__:validation Loss: 0.1804; validation Acc: 0.9572;\n"
          ]
        },
        {
          "output_type": "stream",
          "name": "stdout",
          "text": [
            "epoch: 11; lr: 0.003;\n"
          ]
        },
        {
          "output_type": "stream",
          "name": "stderr",
          "text": [
            "INFO:__main__:epoch: 11; lr: 0.003;\n"
          ]
        },
        {
          "output_type": "stream",
          "name": "stdout",
          "text": [
            "\n",
            "Epoch 12/30\n",
            "----------\n",
            "train Loss: 0.1722; train Acc: 0.9472;\n"
          ]
        },
        {
          "output_type": "stream",
          "name": "stderr",
          "text": [
            "INFO:__main__:train Loss: 0.1722; train Acc: 0.9472;\n"
          ]
        },
        {
          "output_type": "stream",
          "name": "stdout",
          "text": [
            "validation Loss: 0.1743; validation Acc: 0.9607;\n"
          ]
        },
        {
          "output_type": "stream",
          "name": "stderr",
          "text": [
            "INFO:__main__:validation Loss: 0.1743; validation Acc: 0.9607;\n"
          ]
        },
        {
          "output_type": "stream",
          "name": "stdout",
          "text": [
            "epoch: 12; lr: 0.003;\n"
          ]
        },
        {
          "output_type": "stream",
          "name": "stderr",
          "text": [
            "INFO:__main__:epoch: 12; lr: 0.003;\n"
          ]
        },
        {
          "output_type": "stream",
          "name": "stdout",
          "text": [
            "\n",
            "Epoch 13/30\n",
            "----------\n",
            "train Loss: 0.1664; train Acc: 0.9486;\n"
          ]
        },
        {
          "output_type": "stream",
          "name": "stderr",
          "text": [
            "INFO:__main__:train Loss: 0.1664; train Acc: 0.9486;\n"
          ]
        },
        {
          "output_type": "stream",
          "name": "stdout",
          "text": [
            "validation Loss: 0.1636; validation Acc: 0.9616;\n"
          ]
        },
        {
          "output_type": "stream",
          "name": "stderr",
          "text": [
            "INFO:__main__:validation Loss: 0.1636; validation Acc: 0.9616;\n"
          ]
        },
        {
          "output_type": "stream",
          "name": "stdout",
          "text": [
            "epoch: 13; lr: 0.003;\n"
          ]
        },
        {
          "output_type": "stream",
          "name": "stderr",
          "text": [
            "INFO:__main__:epoch: 13; lr: 0.003;\n"
          ]
        },
        {
          "output_type": "stream",
          "name": "stdout",
          "text": [
            "\n",
            "Epoch 14/30\n",
            "----------\n",
            "train Loss: 0.1594; train Acc: 0.9506;\n"
          ]
        },
        {
          "output_type": "stream",
          "name": "stderr",
          "text": [
            "INFO:__main__:train Loss: 0.1594; train Acc: 0.9506;\n"
          ]
        },
        {
          "output_type": "stream",
          "name": "stdout",
          "text": [
            "validation Loss: 0.1549; validation Acc: 0.9657;\n"
          ]
        },
        {
          "output_type": "stream",
          "name": "stderr",
          "text": [
            "INFO:__main__:validation Loss: 0.1549; validation Acc: 0.9657;\n"
          ]
        },
        {
          "output_type": "stream",
          "name": "stdout",
          "text": [
            "epoch: 14; lr: 0.003;\n"
          ]
        },
        {
          "output_type": "stream",
          "name": "stderr",
          "text": [
            "INFO:__main__:epoch: 14; lr: 0.003;\n"
          ]
        },
        {
          "output_type": "stream",
          "name": "stdout",
          "text": [
            "\n",
            "Epoch 15/30\n",
            "----------\n",
            "train Loss: 0.1500; train Acc: 0.9544;\n"
          ]
        },
        {
          "output_type": "stream",
          "name": "stderr",
          "text": [
            "INFO:__main__:train Loss: 0.1500; train Acc: 0.9544;\n"
          ]
        },
        {
          "output_type": "stream",
          "name": "stdout",
          "text": [
            "validation Loss: 0.1574; validation Acc: 0.9637;\n"
          ]
        },
        {
          "output_type": "stream",
          "name": "stderr",
          "text": [
            "INFO:__main__:validation Loss: 0.1574; validation Acc: 0.9637;\n"
          ]
        },
        {
          "output_type": "stream",
          "name": "stdout",
          "text": [
            "epoch: 15; lr: 0.003;\n"
          ]
        },
        {
          "output_type": "stream",
          "name": "stderr",
          "text": [
            "INFO:__main__:epoch: 15; lr: 0.003;\n"
          ]
        },
        {
          "output_type": "stream",
          "name": "stdout",
          "text": [
            "\n",
            "Epoch 16/30\n",
            "----------\n",
            "train Loss: 0.1470; train Acc: 0.9556;\n"
          ]
        },
        {
          "output_type": "stream",
          "name": "stderr",
          "text": [
            "INFO:__main__:train Loss: 0.1470; train Acc: 0.9556;\n"
          ]
        },
        {
          "output_type": "stream",
          "name": "stdout",
          "text": [
            "validation Loss: 0.1484; validation Acc: 0.9667;\n"
          ]
        },
        {
          "output_type": "stream",
          "name": "stderr",
          "text": [
            "INFO:__main__:validation Loss: 0.1484; validation Acc: 0.9667;\n"
          ]
        },
        {
          "output_type": "stream",
          "name": "stdout",
          "text": [
            "epoch: 16; lr: 0.003;\n"
          ]
        },
        {
          "output_type": "stream",
          "name": "stderr",
          "text": [
            "INFO:__main__:epoch: 16; lr: 0.003;\n"
          ]
        },
        {
          "output_type": "stream",
          "name": "stdout",
          "text": [
            "\n",
            "Epoch 17/30\n",
            "----------\n",
            "train Loss: 0.1415; train Acc: 0.9561;\n"
          ]
        },
        {
          "output_type": "stream",
          "name": "stderr",
          "text": [
            "INFO:__main__:train Loss: 0.1415; train Acc: 0.9561;\n"
          ]
        },
        {
          "output_type": "stream",
          "name": "stdout",
          "text": [
            "validation Loss: 0.1564; validation Acc: 0.9623;\n"
          ]
        },
        {
          "output_type": "stream",
          "name": "stderr",
          "text": [
            "INFO:__main__:validation Loss: 0.1564; validation Acc: 0.9623;\n"
          ]
        },
        {
          "output_type": "stream",
          "name": "stdout",
          "text": [
            "epoch: 17; lr: 0.003;\n"
          ]
        },
        {
          "output_type": "stream",
          "name": "stderr",
          "text": [
            "INFO:__main__:epoch: 17; lr: 0.003;\n"
          ]
        },
        {
          "output_type": "stream",
          "name": "stdout",
          "text": [
            "\n",
            "Epoch 18/30\n",
            "----------\n",
            "train Loss: 0.1367; train Acc: 0.9579;\n"
          ]
        },
        {
          "output_type": "stream",
          "name": "stderr",
          "text": [
            "INFO:__main__:train Loss: 0.1367; train Acc: 0.9579;\n"
          ]
        },
        {
          "output_type": "stream",
          "name": "stdout",
          "text": [
            "validation Loss: 0.1379; validation Acc: 0.9681;\n"
          ]
        },
        {
          "output_type": "stream",
          "name": "stderr",
          "text": [
            "INFO:__main__:validation Loss: 0.1379; validation Acc: 0.9681;\n"
          ]
        },
        {
          "output_type": "stream",
          "name": "stdout",
          "text": [
            "epoch: 18; lr: 0.003;\n"
          ]
        },
        {
          "output_type": "stream",
          "name": "stderr",
          "text": [
            "INFO:__main__:epoch: 18; lr: 0.003;\n"
          ]
        },
        {
          "output_type": "stream",
          "name": "stdout",
          "text": [
            "\n",
            "Epoch 19/30\n",
            "----------\n",
            "train Loss: 0.1334; train Acc: 0.9592;\n"
          ]
        },
        {
          "output_type": "stream",
          "name": "stderr",
          "text": [
            "INFO:__main__:train Loss: 0.1334; train Acc: 0.9592;\n"
          ]
        },
        {
          "output_type": "stream",
          "name": "stdout",
          "text": [
            "validation Loss: 0.1284; validation Acc: 0.9714;\n"
          ]
        },
        {
          "output_type": "stream",
          "name": "stderr",
          "text": [
            "INFO:__main__:validation Loss: 0.1284; validation Acc: 0.9714;\n"
          ]
        },
        {
          "output_type": "stream",
          "name": "stdout",
          "text": [
            "epoch: 19; lr: 0.003;\n"
          ]
        },
        {
          "output_type": "stream",
          "name": "stderr",
          "text": [
            "INFO:__main__:epoch: 19; lr: 0.003;\n"
          ]
        },
        {
          "output_type": "stream",
          "name": "stdout",
          "text": [
            "\n",
            "Epoch 20/30\n",
            "----------\n",
            "train Loss: 0.1328; train Acc: 0.9591;\n"
          ]
        },
        {
          "output_type": "stream",
          "name": "stderr",
          "text": [
            "INFO:__main__:train Loss: 0.1328; train Acc: 0.9591;\n"
          ]
        },
        {
          "output_type": "stream",
          "name": "stdout",
          "text": [
            "validation Loss: 0.1223; validation Acc: 0.9709;\n"
          ]
        },
        {
          "output_type": "stream",
          "name": "stderr",
          "text": [
            "INFO:__main__:validation Loss: 0.1223; validation Acc: 0.9709;\n"
          ]
        },
        {
          "output_type": "stream",
          "name": "stdout",
          "text": [
            "epoch: 20; lr: 0.003;\n"
          ]
        },
        {
          "output_type": "stream",
          "name": "stderr",
          "text": [
            "INFO:__main__:epoch: 20; lr: 0.003;\n"
          ]
        },
        {
          "output_type": "stream",
          "name": "stdout",
          "text": [
            "\n",
            "Epoch 21/30\n",
            "----------\n",
            "train Loss: 0.1271; train Acc: 0.9610;\n"
          ]
        },
        {
          "output_type": "stream",
          "name": "stderr",
          "text": [
            "INFO:__main__:train Loss: 0.1271; train Acc: 0.9610;\n"
          ]
        },
        {
          "output_type": "stream",
          "name": "stdout",
          "text": [
            "validation Loss: 0.1192; validation Acc: 0.9722;\n"
          ]
        },
        {
          "output_type": "stream",
          "name": "stderr",
          "text": [
            "INFO:__main__:validation Loss: 0.1192; validation Acc: 0.9722;\n"
          ]
        },
        {
          "output_type": "stream",
          "name": "stdout",
          "text": [
            "epoch: 21; lr: 0.003;\n"
          ]
        },
        {
          "output_type": "stream",
          "name": "stderr",
          "text": [
            "INFO:__main__:epoch: 21; lr: 0.003;\n"
          ]
        },
        {
          "output_type": "stream",
          "name": "stdout",
          "text": [
            "\n",
            "Epoch 22/30\n",
            "----------\n",
            "train Loss: 0.1235; train Acc: 0.9617;\n"
          ]
        },
        {
          "output_type": "stream",
          "name": "stderr",
          "text": [
            "INFO:__main__:train Loss: 0.1235; train Acc: 0.9617;\n"
          ]
        },
        {
          "output_type": "stream",
          "name": "stdout",
          "text": [
            "validation Loss: 0.1236; validation Acc: 0.9723;\n"
          ]
        },
        {
          "output_type": "stream",
          "name": "stderr",
          "text": [
            "INFO:__main__:validation Loss: 0.1236; validation Acc: 0.9723;\n"
          ]
        },
        {
          "output_type": "stream",
          "name": "stdout",
          "text": [
            "epoch: 22; lr: 0.003;\n"
          ]
        },
        {
          "output_type": "stream",
          "name": "stderr",
          "text": [
            "INFO:__main__:epoch: 22; lr: 0.003;\n"
          ]
        },
        {
          "output_type": "stream",
          "name": "stdout",
          "text": [
            "\n",
            "Epoch 23/30\n",
            "----------\n",
            "train Loss: 0.1209; train Acc: 0.9627;\n"
          ]
        },
        {
          "output_type": "stream",
          "name": "stderr",
          "text": [
            "INFO:__main__:train Loss: 0.1209; train Acc: 0.9627;\n"
          ]
        },
        {
          "output_type": "stream",
          "name": "stdout",
          "text": [
            "validation Loss: 0.1203; validation Acc: 0.9716;\n"
          ]
        },
        {
          "output_type": "stream",
          "name": "stderr",
          "text": [
            "INFO:__main__:validation Loss: 0.1203; validation Acc: 0.9716;\n"
          ]
        },
        {
          "output_type": "stream",
          "name": "stdout",
          "text": [
            "epoch: 23; lr: 0.003;\n"
          ]
        },
        {
          "output_type": "stream",
          "name": "stderr",
          "text": [
            "INFO:__main__:epoch: 23; lr: 0.003;\n"
          ]
        },
        {
          "output_type": "stream",
          "name": "stdout",
          "text": [
            "\n",
            "Epoch 24/30\n",
            "----------\n",
            "train Loss: 0.1155; train Acc: 0.9636;\n"
          ]
        },
        {
          "output_type": "stream",
          "name": "stderr",
          "text": [
            "INFO:__main__:train Loss: 0.1155; train Acc: 0.9636;\n"
          ]
        },
        {
          "output_type": "stream",
          "name": "stdout",
          "text": [
            "validation Loss: 0.1178; validation Acc: 0.9697;\n"
          ]
        },
        {
          "output_type": "stream",
          "name": "stderr",
          "text": [
            "INFO:__main__:validation Loss: 0.1178; validation Acc: 0.9697;\n"
          ]
        },
        {
          "output_type": "stream",
          "name": "stdout",
          "text": [
            "epoch: 24; lr: 0.003;\n"
          ]
        },
        {
          "output_type": "stream",
          "name": "stderr",
          "text": [
            "INFO:__main__:epoch: 24; lr: 0.003;\n"
          ]
        },
        {
          "output_type": "stream",
          "name": "stdout",
          "text": [
            "\n",
            "Epoch 25/30\n",
            "----------\n",
            "train Loss: 0.1160; train Acc: 0.9643;\n"
          ]
        },
        {
          "output_type": "stream",
          "name": "stderr",
          "text": [
            "INFO:__main__:train Loss: 0.1160; train Acc: 0.9643;\n"
          ]
        },
        {
          "output_type": "stream",
          "name": "stdout",
          "text": [
            "validation Loss: 0.1147; validation Acc: 0.9735;\n"
          ]
        },
        {
          "output_type": "stream",
          "name": "stderr",
          "text": [
            "INFO:__main__:validation Loss: 0.1147; validation Acc: 0.9735;\n"
          ]
        },
        {
          "output_type": "stream",
          "name": "stdout",
          "text": [
            "epoch: 25; lr: 0.003;\n"
          ]
        },
        {
          "output_type": "stream",
          "name": "stderr",
          "text": [
            "INFO:__main__:epoch: 25; lr: 0.003;\n"
          ]
        },
        {
          "output_type": "stream",
          "name": "stdout",
          "text": [
            "\n",
            "Epoch 26/30\n",
            "----------\n",
            "train Loss: 0.1139; train Acc: 0.9660;\n"
          ]
        },
        {
          "output_type": "stream",
          "name": "stderr",
          "text": [
            "INFO:__main__:train Loss: 0.1139; train Acc: 0.9660;\n"
          ]
        },
        {
          "output_type": "stream",
          "name": "stdout",
          "text": [
            "validation Loss: 0.1153; validation Acc: 0.9734;\n"
          ]
        },
        {
          "output_type": "stream",
          "name": "stderr",
          "text": [
            "INFO:__main__:validation Loss: 0.1153; validation Acc: 0.9734;\n"
          ]
        },
        {
          "output_type": "stream",
          "name": "stdout",
          "text": [
            "epoch: 26; lr: 0.003;\n"
          ]
        },
        {
          "output_type": "stream",
          "name": "stderr",
          "text": [
            "INFO:__main__:epoch: 26; lr: 0.003;\n"
          ]
        },
        {
          "output_type": "stream",
          "name": "stdout",
          "text": [
            "\n",
            "Epoch 27/30\n",
            "----------\n",
            "train Loss: 0.1099; train Acc: 0.9656;\n"
          ]
        },
        {
          "output_type": "stream",
          "name": "stderr",
          "text": [
            "INFO:__main__:train Loss: 0.1099; train Acc: 0.9656;\n"
          ]
        },
        {
          "output_type": "stream",
          "name": "stdout",
          "text": [
            "validation Loss: 0.1072; validation Acc: 0.9758;\n"
          ]
        },
        {
          "output_type": "stream",
          "name": "stderr",
          "text": [
            "INFO:__main__:validation Loss: 0.1072; validation Acc: 0.9758;\n"
          ]
        },
        {
          "output_type": "stream",
          "name": "stdout",
          "text": [
            "epoch: 27; lr: 0.003;\n"
          ]
        },
        {
          "output_type": "stream",
          "name": "stderr",
          "text": [
            "INFO:__main__:epoch: 27; lr: 0.003;\n"
          ]
        },
        {
          "output_type": "stream",
          "name": "stdout",
          "text": [
            "\n",
            "Epoch 28/30\n",
            "----------\n",
            "train Loss: 0.1082; train Acc: 0.9660;\n"
          ]
        },
        {
          "output_type": "stream",
          "name": "stderr",
          "text": [
            "INFO:__main__:train Loss: 0.1082; train Acc: 0.9660;\n"
          ]
        },
        {
          "output_type": "stream",
          "name": "stdout",
          "text": [
            "validation Loss: 0.1114; validation Acc: 0.9752;\n"
          ]
        },
        {
          "output_type": "stream",
          "name": "stderr",
          "text": [
            "INFO:__main__:validation Loss: 0.1114; validation Acc: 0.9752;\n"
          ]
        },
        {
          "output_type": "stream",
          "name": "stdout",
          "text": [
            "epoch: 28; lr: 0.003;\n"
          ]
        },
        {
          "output_type": "stream",
          "name": "stderr",
          "text": [
            "INFO:__main__:epoch: 28; lr: 0.003;\n"
          ]
        },
        {
          "output_type": "stream",
          "name": "stdout",
          "text": [
            "\n",
            "Epoch 29/30\n",
            "----------\n",
            "train Loss: 0.1091; train Acc: 0.9653;\n"
          ]
        },
        {
          "output_type": "stream",
          "name": "stderr",
          "text": [
            "INFO:__main__:train Loss: 0.1091; train Acc: 0.9653;\n"
          ]
        },
        {
          "output_type": "stream",
          "name": "stdout",
          "text": [
            "validation Loss: 0.1059; validation Acc: 0.9757;\n"
          ]
        },
        {
          "output_type": "stream",
          "name": "stderr",
          "text": [
            "INFO:__main__:validation Loss: 0.1059; validation Acc: 0.9757;\n"
          ]
        },
        {
          "output_type": "stream",
          "name": "stdout",
          "text": [
            "epoch: 29; lr: 0.003;\n"
          ]
        },
        {
          "output_type": "stream",
          "name": "stderr",
          "text": [
            "INFO:__main__:epoch: 29; lr: 0.003;\n"
          ]
        },
        {
          "output_type": "stream",
          "name": "stdout",
          "text": [
            "\n",
            "Epoch 30/30\n",
            "----------\n",
            "train Loss: 0.1028; train Acc: 0.9684;\n"
          ]
        },
        {
          "output_type": "stream",
          "name": "stderr",
          "text": [
            "INFO:__main__:train Loss: 0.1028; train Acc: 0.9684;\n"
          ]
        },
        {
          "output_type": "stream",
          "name": "stdout",
          "text": [
            "validation Loss: 0.1022; validation Acc: 0.9770;\n"
          ]
        },
        {
          "output_type": "stream",
          "name": "stderr",
          "text": [
            "INFO:__main__:validation Loss: 0.1022; validation Acc: 0.9770;\n"
          ]
        },
        {
          "output_type": "stream",
          "name": "stdout",
          "text": [
            "epoch: 30; lr: 0.003;\n"
          ]
        },
        {
          "output_type": "stream",
          "name": "stderr",
          "text": [
            "INFO:__main__:epoch: 30; lr: 0.003;\n"
          ]
        },
        {
          "output_type": "stream",
          "name": "stdout",
          "text": [
            "\n",
            "Training complete in 16m 7s\n",
            "Best validation Acc: 0.977000\n",
            "\n",
            "Evaluating best weights:\n",
            "--------------------\n",
            "train Loss: 0.0987 Acc: 0.9764\n",
            "train Avg. F1 Score: 0.976;\n"
          ]
        },
        {
          "output_type": "stream",
          "name": "stderr",
          "text": [
            "INFO:__main__:train Avg. F1 Score: 0.976;\n"
          ]
        },
        {
          "output_type": "stream",
          "name": "stdout",
          "text": [
            "\n"
          ]
        },
        {
          "output_type": "stream",
          "name": "stderr",
          "text": [
            "/usr/local/lib/python3.7/dist-packages/torch/utils/data/dataloader.py:566: UserWarning: This DataLoader will create 4 worker processes in total. Our suggested max number of worker in current system is 2, which is smaller than what this DataLoader is going to create. Please be aware that excessive worker creation might get DataLoader running slow or even freeze, lower the worker number to avoid potential slowness/freeze if necessary.\n",
            "  cpuset_checked))\n"
          ]
        },
        {
          "output_type": "stream",
          "name": "stdout",
          "text": [
            "validation Loss: 0.0990 Acc: 0.9769\n",
            "validation Avg. F1 Score: 0.977;\n"
          ]
        },
        {
          "output_type": "stream",
          "name": "stderr",
          "text": [
            "INFO:__main__:validation Avg. F1 Score: 0.977;\n"
          ]
        },
        {
          "output_type": "stream",
          "name": "stdout",
          "text": [
            "\n"
          ]
        },
        {
          "output_type": "stream",
          "name": "stderr",
          "text": [
            "/usr/local/lib/python3.7/dist-packages/torch/utils/data/dataloader.py:566: UserWarning: This DataLoader will create 4 worker processes in total. Our suggested max number of worker in current system is 2, which is smaller than what this DataLoader is going to create. Please be aware that excessive worker creation might get DataLoader running slow or even freeze, lower the worker number to avoid potential slowness/freeze if necessary.\n",
            "  cpuset_checked))\n"
          ]
        },
        {
          "output_type": "stream",
          "name": "stdout",
          "text": [
            "test accuracy :  0.9892\n"
          ]
        },
        {
          "output_type": "display_data",
          "data": {
            "text/plain": [
              "<Figure size 432x288 with 2 Axes>"
            ],
            "image/png": "[encoded data removed]"
          },
          "metadata": {
            "needs_background": "light"
          }
        }
      ]
    },
    {
      "cell_type": "markdown",
      "source": [
        "load a trained model"
      ],
      "metadata": {
        "id": "C5wdmaM7W50-"
      }
    },
    {
      "cell_type": "code",
      "source": [
        "# model = ConvNet()\n",
        "# checkpoint = torch.load(PATH)\n",
        "# model.load_state_dict(checkpoint['net'])"
      ],
      "metadata": {
        "id": "KEm5noGkW4QK"
      },
      "execution_count": null,
      "outputs": []
    },
    {
      "cell_type": "markdown",
      "source": [
        "### Open Set Recognition (OpenMax) \n",
        "![openmax.png](data:image/png;base64,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)"
      ],
      "metadata": {
        "id": "pJI5VAiFcNeh"
      }
    },
    {
      "cell_type": "markdown",
      "source": [
        "*this code is based on this paper(Towards Open Set Deep Networks\n",
        "):*\n",
        "https://arxiv.org/abs/1511.06233 \\\\\n",
        "I use libMR library which provides core MetaRecognition and Weibull fitting functionality. It is used to calculate w-scores used for multi-modal fusion, renormalize SVM data and in general support open-set algorithms with outlier detection\n",
        "\n"
      ],
      "metadata": {
        "id": "Pef7B4hVKucX"
      }
    },
    {
      "cell_type": "code",
      "source": [
        "import numpy as np\n",
        "import scipy.spatial.distance as spd\n",
        "import torch\n",
        "\n",
        "import subprocess\n",
        "import sys\n",
        "\n",
        "def install(package):\n",
        "    subprocess.check_call([sys.executable, \"-m\", \"pip\", \"install\", package])\n",
        "install(\"libmr\")\n",
        "import libmr"
      ],
      "metadata": {
        "id": "dtf1axbxpl_Y"
      },
      "execution_count": null,
      "outputs": []
    },
    {
      "cell_type": "code",
      "source": [
        "def calc_distance(query_score, mcv, eu_weight, distance_type='eucos'):\n",
        "    if distance_type == 'eucos':\n",
        "        query_distance = spd.euclidean(mcv, query_score) * eu_weight + \\\n",
        "            spd.cosine(mcv, query_score)\n",
        "    elif distance_type == 'euclidean':\n",
        "        query_distance = spd.euclidean(mcv, query_score)\n",
        "    elif distance_type == 'cosine':\n",
        "        query_distance = spd.cosine(mcv, query_score)\n",
        "    else:\n",
        "        print(\"distance type not known: enter either of eucos, euclidean or cosine\")\n",
        "    return query_distance\n",
        "\n",
        "\n",
        "def fit_weibull(means, dists, categories, tailsize=10, distance_type='eucos'):\n",
        "    \"\"\"\n",
        "    Input:\n",
        "        means (C, channel, C)\n",
        "        dists (N_c, channel, C) * C\n",
        "    Output:\n",
        "        weibull_model : Perform EVT based analysis using tails of distances and save\n",
        "                        weibull model parameters for re-adjusting softmax scores\n",
        "    \"\"\"\n",
        "    weibull_model = {}\n",
        "    for mean, dist, category_name in zip(means, dists, categories):\n",
        "        weibull_model[category_name] = {}\n",
        "        weibull_model[category_name]['distances_{}'.format(distance_type)] = dist[distance_type]\n",
        "        weibull_model[category_name]['mean_vec'] = mean\n",
        "        weibull_model[category_name]['weibull_model'] = []\n",
        "        for channel in range(mean.shape[0]):\n",
        "            mr = libmr.MR()\n",
        "            tailtofit = np.sort(dist[distance_type][channel, :])[-tailsize:]\n",
        "            mr.fit_high(tailtofit, len(tailtofit))\n",
        "            weibull_model[category_name]['weibull_model'].append(mr)\n",
        "\n",
        "    return weibull_model\n",
        "\n",
        "\n",
        "def query_weibull(category_name, weibull_model, distance_type='eucos'):\n",
        "    return [weibull_model[category_name]['mean_vec'],\n",
        "            weibull_model[category_name]['distances_{}'.format(distance_type)],\n",
        "            weibull_model[category_name]['weibull_model']]\n",
        "\n",
        "\n",
        "def compute_openmax_prob(scores, scores_u):\n",
        "    prob_scores, prob_unknowns = [], []\n",
        "    for s, su in zip(scores, scores_u):\n",
        "        channel_scores = np.exp(s)\n",
        "        channel_unknown = np.exp(np.sum(su))\n",
        "\n",
        "        total_denom = np.sum(channel_scores) + channel_unknown\n",
        "        prob_scores.append(channel_scores / total_denom)\n",
        "        prob_unknowns.append(channel_unknown / total_denom)\n",
        "\n",
        "    # Take channel mean\n",
        "    scores = np.mean(prob_scores, axis=0)\n",
        "    unknowns = np.mean(prob_unknowns, axis=0)\n",
        "    modified_scores = scores.tolist() + [unknowns]\n",
        "    return modified_scores\n",
        "\n",
        "\n",
        "\n",
        "\n",
        "def openmax(weibull_model, categories, input_score, eu_weight, alpha=6, distance_type='eucos'):\n",
        "    \"\"\"Re-calibrate scores via OpenMax layer\n",
        "    Output:\n",
        "        openmax probability\n",
        "    \"\"\"\n",
        "    nb_classes = len(categories)\n",
        "\n",
        "    ranked_list = input_score.argsort().ravel()[::-1][:alpha]\n",
        "    alpha_weights = [((alpha + 1) - i) / float(alpha) for i in range(1, alpha + 1)]\n",
        "    omega = np.zeros(nb_classes)\n",
        "    omega[ranked_list] = alpha_weights\n",
        "\n",
        "    scores, scores_u = [], []\n",
        "    for channel, input_score_channel in enumerate(input_score):\n",
        "        score_channel, score_channel_u = [], []\n",
        "        for c, category_name in enumerate(categories):\n",
        "            mav, dist, model = query_weibull(category_name, weibull_model, distance_type)\n",
        "            channel_dist = calc_distance(input_score_channel, mav[channel], eu_weight, distance_type)\n",
        "            wscore = model[channel].w_score(channel_dist)\n",
        "            modified_score = input_score_channel[c] * (1 - wscore * omega[c])\n",
        "            score_channel.append(modified_score)\n",
        "            score_channel_u.append(input_score_channel[c] - modified_score)\n",
        "\n",
        "        scores.append(score_channel)\n",
        "        scores_u.append(score_channel_u)\n",
        "\n",
        "    scores = np.asarray(scores)\n",
        "    scores_u = np.asarray(scores_u)\n",
        "\n",
        "    openmax_prob = np.array(compute_openmax_prob(scores, scores_u))\n",
        "    return openmax_prob\n",
        "\n",
        "\n",
        "def compute_channel_distances(mavs, features, eu_weight=0.5):\n",
        "    \"\"\"\n",
        "    Input:\n",
        "        mavs (channel, C)\n",
        "        features: (N, channel, C)\n",
        "    Output:\n",
        "        channel_distances: dict of distance distribution from MAV for each channel.\n",
        "    \"\"\"\n",
        "    eucos_dists, eu_dists, cos_dists = [], [], []\n",
        "    for channel, mcv in enumerate(mavs):  # Compute channel specific distances\n",
        "        eu_dists.append([spd.euclidean(mcv, feat[channel]) for feat in features])\n",
        "        cos_dists.append([spd.cosine(mcv, feat[channel]) for feat in features])\n",
        "        eucos_dists.append([spd.euclidean(mcv, feat[channel]) * eu_weight +\n",
        "                            spd.cosine(mcv, feat[channel]) for feat in features])\n",
        "\n",
        "    return {'eucos': np.array(eucos_dists), 'cosine': np.array(cos_dists), 'euclidean': np.array(eu_dists)}\n",
        "\n",
        "\n",
        "def compute_train_score_and_mavs_and_dists(train_class_num,trainloader,device,net):\n",
        "    scores = [[] for _ in range(train_class_num)]\n",
        "    with torch.no_grad():\n",
        "        for batch_idx, (inputs, targets) in enumerate(trainloader):\n",
        "            inputs, targets = inputs.to(device), targets.to(device)\n",
        "\n",
        "            # this must cause error for cifar\n",
        "            outputs = net(inputs)\n",
        "            for score, t in zip(outputs, targets):\n",
        "                if torch.argmax(score) == t:\n",
        "                    scores[t].append(score.unsqueeze(dim=0).unsqueeze(dim=0))\n",
        "    scores = [torch.cat(x).cpu().numpy() for x in scores]  # (N_c, 1, C) * C\n",
        "    mavs = np.array([np.mean(x, axis=0) for x in scores])  # (C, 1, C)\n",
        "    dists = [compute_channel_distances(mcv, score) for mcv, score in zip(mavs, scores)]\n",
        "    return scores, mavs, dists"
      ],
      "metadata": {
        "id": "VyMIdkA0o7AX"
      },
      "execution_count": null,
      "outputs": []
    },
    {
      "cell_type": "code",
      "source": [
        "def OOD_test(net,trainloader, oodtest,criterion):\n",
        "    net.eval()\n",
        "\n",
        "    test_loss = 0\n",
        "    correct = 0\n",
        "    total = 0\n",
        "\n",
        "    scores, labels = [], []\n",
        "    with torch.no_grad():\n",
        "        for batch_idx, (inputs, targets) in enumerate(oodtest):\n",
        "            inputs = inputs.to(device)\n",
        "            outputs = net(inputs)\n",
        "            targets = [10] * len(targets)\n",
        "            targets = torch.tensor(targets)\n",
        "            scores.append(outputs)\n",
        "            labels.append(targets)\n",
        "\n",
        "    # Get the prdict results.\n",
        "    scores = torch.cat(scores,dim=0).cpu().numpy()\n",
        "    labels = torch.cat(labels,dim=0).cpu().numpy()\n",
        "    scores = np.array(scores)[:, np.newaxis, :]\n",
        "    labels = np.array(labels)\n",
        "\n",
        "    # Fit the weibull distribution from training data.\n",
        "    print(\"Fittting Weibull distribution...\")\n",
        "    _, mavs, dists = compute_train_score_and_mavs_and_dists(10, trainloader, device, net)\n",
        "    categories = list(range(0, 10))\n",
        "    weibull_model = fit_weibull(mavs, dists, categories,tailsize=10)\n",
        "\n",
        "    pred_openmax = []\n",
        "    score_openmax = []\n",
        "    sum = 0\n",
        "    predlist = []\n",
        "    for score in scores:\n",
        "        so = openmax(weibull_model, categories, score,\n",
        "                         0.9, 6)  # openmax_prob, softmax_prob\n",
        "        # print(np.argmax(so))\n",
        "        predicted = np.argmax(so)\n",
        "        predlist.append(predicted)\n",
        "        if predicted == 10 :\n",
        "          sum+=1\n",
        "\n",
        "    print(\"openmax accuracy is  :\" , (sum)*100/len(scores))  \n",
        "    return labels,predlist\n",
        "\n",
        "############################\n",
        "\n",
        "def in_dist_test(net,trainloader, oodtest,criterion):\n",
        "    net.eval()\n",
        "\n",
        "    test_loss = 0\n",
        "    correct = 0\n",
        "    total = 0\n",
        "\n",
        "    scores, labels = [], []\n",
        "    with torch.no_grad():\n",
        "        for batch_idx, (inputs, targets) in enumerate(oodtest):\n",
        "            inputs = inputs.to(device)\n",
        "            outputs = net(inputs)\n",
        "            scores.append(outputs)\n",
        "            labels.append(targets)\n",
        "\n",
        "    # Get the prdict results.\n",
        "    scores = torch.cat(scores,dim=0).cpu().numpy()\n",
        "    labels = torch.cat(labels,dim=0).cpu().numpy()\n",
        "    scores = np.array(scores)[:, np.newaxis, :]\n",
        "    labels = np.array(labels)\n",
        "\n",
        "    # Fit the weibull distribution from training data.\n",
        "    print(\"Fittting Weibull distribution...\")\n",
        "    _, mavs, dists = compute_train_score_and_mavs_and_dists(10, trainloader, device, net)\n",
        "    categories = list(range(0, 10))\n",
        "    weibull_model = fit_weibull(mavs, dists, categories,tailsize=10)\n",
        "\n",
        "    pred_openmax = []\n",
        "    score_openmax = []\n",
        "    sum = 0\n",
        "    predlist = []\n",
        "    for score in scores:\n",
        "        so = openmax(weibull_model, categories, score,\n",
        "                         0.9, 6)  # openmax_prob, softmax_prob\n",
        "        # print(np.argmax(so))\n",
        "        predicted = np.argmax(so)\n",
        "        predlist.append(predicted)\n",
        "\n",
        "    return labels,predlist\n"
      ],
      "metadata": {
        "id": "e9Xe0ZNxcM3k"
      },
      "execution_count": null,
      "outputs": []
    },
    {
      "cell_type": "code",
      "source": [
        "ood_labels,ood_preds = OOD_test(model,dataloader['train'],oodloader,criterion)\n",
        "\n",
        "in_dist_labels , in_dist_preds = in_dist_test(model , dataloader['train'] , testloader,criterion)"
      ],
      "metadata": {
        "colab": {
          "base_uri": "https://localhost:8080/"
        },
        "id": "hKhyqm4lybR0",
        "outputId": "ec048d88-c4ff-40a7-ce75-74e70fd0a215"
      },
      "execution_count": null,
      "outputs": [
        {
          "output_type": "stream",
          "name": "stderr",
          "text": [
            "/usr/local/lib/python3.7/dist-packages/torch/utils/data/dataloader.py:566: UserWarning: This DataLoader will create 4 worker processes in total. Our suggested max number of worker in current system is 2, which is smaller than what this DataLoader is going to create. Please be aware that excessive worker creation might get DataLoader running slow or even freeze, lower the worker number to avoid potential slowness/freeze if necessary.\n",
            "  cpuset_checked))\n"
          ]
        },
        {
          "output_type": "stream",
          "name": "stdout",
          "text": [
            "Fittting Weibull distribution...\n",
            "openmax accuracy is  : 56.333333333333336\n",
            "Fittting Weibull distribution...\n"
          ]
        }
      ]
    },
    {
      "cell_type": "code",
      "source": [
        "true_labels =np.concatenate((ood_labels ,in_dist_labels))\n",
        "preds =np.concatenate((ood_preds ,in_dist_preds)) \n",
        "# compute the total accuracy\n",
        "acc = 0\n",
        "for x,y in zip(true_labels , preds):\n",
        "  if x == y :\n",
        "    acc+=1\n",
        "\n",
        "acc = acc/len(true_labels)\n",
        "print(\"The total accuracy is :\" ,acc*100 )\n",
        "mat = confusion_matrix(true_labels,preds)\n",
        "disp = ConfusionMatrixDisplay(mat ,display_labels=list(range(11)))\n",
        "disp.plot()\n",
        "plt.show()\n"
      ],
      "metadata": {
        "colab": {
          "base_uri": "https://localhost:8080/",
          "height": 296
        },
        "id": "qN6qJqMTnYAe",
        "outputId": "9a46e882-f38a-40dd-d12b-84522ba88d6c"
      },
      "execution_count": null,
      "outputs": [
        {
          "output_type": "stream",
          "name": "stdout",
          "text": [
            "The total accuracy is : 74.77669902912622\n"
          ]
        },
        {
          "output_type": "display_data",
          "data": {
            "text/plain": [
              "<Figure size 432x288 with 2 Axes>"
            ],
            "image/png": "[encoded data removed]"
          },
          "metadata": {
            "needs_background": "light"
          }
        }
      ]
    },
    {
      "cell_type": "markdown",
      "source": [
        "## discuss\n",
        "the openMax model will performe diffrently on other odd and that because each data need to fit it with the right (optim) parameters, for example in my case I try diffrent wights & alpha's and at the end I take what the paper suggest."
      ],
      "metadata": {
        "id": "A8bFtADEbtir"
      }
    }
  ]
}